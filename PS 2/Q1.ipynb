{
 "cells": [
  {
   "cell_type": "code",
   "execution_count": 6,
   "id": "afac1562-218f-4ea4-bcc8-6e4c70ab9864",
   "metadata": {
    "tags": []
   },
   "outputs": [],
   "source": [
    "import numpy as np\n",
    "import pandas as pd\n",
    "dict = {\"Name\":[\"abc\",\"def\",\"ghi\"],\"Mark 1\":[7,8,9],\"Mark 2\":[6,3,8]}\n",
    "df=pd.DataFrame(dict)\n",
    "file = open(\"mark_Q1_PS2.txt\",\"a\")\n",
    "for j in df:\n",
    "    #print(j)\n",
    "    file.write(j + \"=\" + str(dict[j]) +\"\\n\")\n",
    "file.close()"
   ]
  },
  {
   "cell_type": "code",
   "execution_count": null,
   "id": "d4b8e95f-2a0e-4de4-b005-d1f33dd76623",
   "metadata": {},
   "outputs": [],
   "source": []
  }
 ],
 "metadata": {
  "kernelspec": {
   "display_name": "Python 3 (ipykernel)",
   "language": "python",
   "name": "python3"
  },
  "language_info": {
   "codemirror_mode": {
    "name": "ipython",
    "version": 3
   },
   "file_extension": ".py",
   "mimetype": "text/x-python",
   "name": "python",
   "nbconvert_exporter": "python",
   "pygments_lexer": "ipython3",
   "version": "3.11.5"
  }
 },
 "nbformat": 4,
 "nbformat_minor": 5
}
