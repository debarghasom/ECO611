{
 "cells": [
  {
   "cell_type": "code",
   "execution_count": 5,
   "id": "d9a606bd-5228-4873-a2ff-1a170ff08971",
   "metadata": {
    "tags": []
   },
   "outputs": [
    {
     "name": "stdin",
     "output_type": "stream",
     "text": [
      "Enter the 1st String:  carbonic acid\n",
      "Enter the 2nd String:  ccbonic bonic ac\n"
     ]
    },
    {
     "name": "stdout",
     "output_type": "stream",
     "text": [
      "The longest common string is:  bonic ac\n"
     ]
    }
   ],
   "source": [
    "# this is better version from CHAT GPT\n",
    "x = input(\"Enter the 1st String: \")\n",
    "y = input(\"Enter the 2nd String: \")\n",
    "k = \"\"\n",
    "highest = 0\n",
    "g = \"\"\n",
    "\n",
    "if len(x) > len(y):\n",
    "    x, y = y, x\n",
    "\n",
    "for i in range(len(x)):\n",
    "    for j in range(len(y)):\n",
    "        if x[i] == y[j]:\n",
    "            k = \"\"\n",
    "            m, n = i, j\n",
    "            while m < len(x) and n < len(y) and x[m] == y[n]:\n",
    "                k += x[m]\n",
    "                m += 1\n",
    "                n += 1\n",
    "\n",
    "            if len(k) > highest:\n",
    "                highest = len(k)\n",
    "                g = k\n",
    "\n",
    "print(\"The longest common string is: \",g)"
   ]
  },
  {
   "cell_type": "code",
   "execution_count": 11,
   "id": "b7ebef27-c786-4a0f-9d52-b567b6f3e59b",
   "metadata": {},
   "outputs": [
    {
     "name": "stdin",
     "output_type": "stream",
     "text": [
      "Enter the first string:  carbonic acid\n",
      "Enter the second string:  ccbonic bonic ac\n"
     ]
    },
    {
     "name": "stdout",
     "output_type": "stream",
     "text": [
      "bonic ac\n"
     ]
    }
   ],
   "source": [
    "# shruti bro's code\n",
    "a = input(\"Enter the first string: \")\n",
    "b = input(\"Enter the second string: \")\n",
    "ans = \"\"\n",
    "\n",
    "for i in range(len(a)):\n",
    "    for j in range(i, len(a)):\n",
    "        if a[i:j] in b:\n",
    "            if len(a[i:j]) > len(ans):\n",
    "                ans = a[i:j]\n",
    "\n",
    "print(ans)\n"
   ]
  },
  {
   "cell_type": "code",
   "execution_count": 12,
   "id": "1eb3e4e4-c85c-47f6-b75b-16e5de26104c",
   "metadata": {
    "tags": []
   },
   "outputs": [
    {
     "name": "stdout",
     "output_type": "stream",
     "text": [
      "\n"
     ]
    }
   ],
   "source": [
    "a=\"abcd\"\n",
    "print(a[1:1])"
   ]
  }
 ],
 "metadata": {
  "kernelspec": {
   "display_name": "Python 3 (ipykernel)",
   "language": "python",
   "name": "python3"
  },
  "language_info": {
   "codemirror_mode": {
    "name": "ipython",
    "version": 3
   },
   "file_extension": ".py",
   "mimetype": "text/x-python",
   "name": "python",
   "nbconvert_exporter": "python",
   "pygments_lexer": "ipython3",
   "version": "3.11.5"
  }
 },
 "nbformat": 4,
 "nbformat_minor": 5
}
