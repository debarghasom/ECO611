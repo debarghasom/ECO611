{
 "cells": [
  {
   "cell_type": "code",
   "execution_count": 5,
   "id": "86c5727d-bc3a-4292-aca8-fb073e357d07",
   "metadata": {
    "tags": []
   },
   "outputs": [
    {
     "name": "stdin",
     "output_type": "stream",
     "text": [
      "Enter a word or a sentence:  Justina is a accha baccha with 2 kacchA.\n"
     ]
    },
    {
     "name": "stdout",
     "output_type": "stream",
     "text": [
      "Upper case count: 2\n",
      "Lower case count: 29\n",
      "Numeric count: 1\n",
      "Other ch. count: 8\n"
     ]
    }
   ],
   "source": [
    "import numpy as np\n",
    "import pandas as pd\n",
    "\n",
    "a = input(\"Enter a word or a sentence: \")\n",
    "up,low,no,oth=0,0,0,0\n",
    "\n",
    "for i in range(len(a)):\n",
    "    if(a[i].isupper() == True):\n",
    "        up += 1\n",
    "    elif(a[i].islower() == True):\n",
    "        low += 1\n",
    "    elif(a[i].isnumeric() == True):\n",
    "        no += 1\n",
    "    else:\n",
    "        oth += 1\n",
    "print(\"Upper case count: \"+str(up)+\"\\nLower case count: \"+str(low)+\"\\nNumeric count: \"+str(no)+\"\\nOther ch. count: \"+str(oth))"
   ]
  },
  {
   "cell_type": "code",
   "execution_count": null,
   "id": "ef944708-a570-43e9-ab6a-0d4c9c0e246a",
   "metadata": {},
   "outputs": [],
   "source": []
  }
 ],
 "metadata": {
  "kernelspec": {
   "display_name": "Python 3 (ipykernel)",
   "language": "python",
   "name": "python3"
  },
  "language_info": {
   "codemirror_mode": {
    "name": "ipython",
    "version": 3
   },
   "file_extension": ".py",
   "mimetype": "text/x-python",
   "name": "python",
   "nbconvert_exporter": "python",
   "pygments_lexer": "ipython3",
   "version": "3.11.5"
  }
 },
 "nbformat": 4,
 "nbformat_minor": 5
}
