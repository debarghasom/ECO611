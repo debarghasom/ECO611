{
 "cells": [
  {
   "cell_type": "code",
   "execution_count": 5,
   "id": "989801e7-da44-4987-928b-ccd7730515a6",
   "metadata": {
    "tags": []
   },
   "outputs": [
    {
     "name": "stdin",
     "output_type": "stream",
     "text": [
      "Enter a word or a sentence:  Trying out the 3rd time\n"
     ]
    },
    {
     "name": "stdout",
     "output_type": "stream",
     "text": [
      "Number of character in Trying: 6\n",
      "Number of character in out: 3\n",
      "Number of character in the: 3\n",
      "Number of character in 3rd: 3\n",
      "Number of character in time: 4\n",
      "Number of words typed: 5\n"
     ]
    }
   ],
   "source": [
    "import numpy as np\n",
    "import pandas as pd\n",
    "\n",
    "a = input(\"Enter a word or a sentence: \")\n",
    "nch,n=0,0\n",
    "word = \"\"\n",
    "\n",
    "for i in range(len(a)):\n",
    "    if(a[i] != \" \"):\n",
    "        nch += 1\n",
    "        word = word + (a[i])\n",
    "    else:\n",
    "        n += 1\n",
    "        print(\"Number of character in \"+word+\": \"+str(nch))\n",
    "        nch = 0\n",
    "        word = \"\"\n",
    "print(\"Number of character in \"+word+\": \"+str(nch))\n",
    "print(\"Number of words typed: \"+str(n+1))"
   ]
  },
  {
   "cell_type": "code",
   "execution_count": 2,
   "id": "be04d9fb-98ac-4d28-9734-8384f3b6e8f2",
   "metadata": {},
   "outputs": [
    {
     "name": "stdin",
     "output_type": "stream",
     "text": [
      "Enter a word or a sentence:  trying out the 2nd time this new code  \n"
     ]
    },
    {
     "name": "stdout",
     "output_type": "stream",
     "text": [
      "Number of character in trying : 6\n",
      "Number of character in out : 3\n",
      "Number of character in the : 3\n",
      "Number of character in 2nd : 3\n",
      "Number of character in time : 4\n",
      "Number of character in this : 4\n",
      "Number of character in new : 3\n",
      "Number of character in code : 4\n",
      "Number of character in  : 0\n",
      "Number of character in  : 0\n"
     ]
    }
   ],
   "source": [
    "import numpy as np\n",
    "import pandas as pd\n",
    "\n",
    "a = input(\"Enter a word or a sentence: \")\n",
    "word = a.split(\" \")\n",
    "\n",
    "for i in range(len(word)):\n",
    "    print(\"Number of character in\",word[i],\":\",len(word[i]))"
   ]
  },
  {
   "cell_type": "code",
   "execution_count": null,
   "id": "9b9d6348-fe65-4592-85c6-ed2b3ff2cff2",
   "metadata": {},
   "outputs": [],
   "source": []
  }
 ],
 "metadata": {
  "kernelspec": {
   "display_name": "Python 3 (ipykernel)",
   "language": "python",
   "name": "python3"
  },
  "language_info": {
   "codemirror_mode": {
    "name": "ipython",
    "version": 3
   },
   "file_extension": ".py",
   "mimetype": "text/x-python",
   "name": "python",
   "nbconvert_exporter": "python",
   "pygments_lexer": "ipython3",
   "version": "3.11.5"
  }
 },
 "nbformat": 4,
 "nbformat_minor": 5
}
