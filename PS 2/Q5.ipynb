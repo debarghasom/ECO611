{
 "cells": [
  {
   "cell_type": "code",
   "execution_count": 1,
   "id": "816be323-55c6-4e46-b7ec-26ba4d43d15c",
   "metadata": {
    "tags": []
   },
   "outputs": [
    {
     "name": "stdout",
     "output_type": "stream",
     "text": [
      "Input two sentences to check if they are permutations of each other\n"
     ]
    },
    {
     "name": "stdin",
     "output_type": "stream",
     "text": [
      "Enter first sentence:  sdd\n",
      "Enter second sentence:  dds\n"
     ]
    },
    {
     "name": "stdout",
     "output_type": "stream",
     "text": [
      "Yes Permutations\n"
     ]
    }
   ],
   "source": [
    "import numpy as np\n",
    "import pandas as pd\n",
    "\n",
    "print(\"Input two sentences to check if they are permutations of each other\")\n",
    "a = input(\"Enter first sentence: \")\n",
    "b = input(\"Enter second sentence: \")\n",
    "c1, c2 = \"\", \"\"\n",
    "dic1, dic2 = {}, {}\n",
    "\n",
    "if len(a) == len(b):\n",
    "    for i in a:\n",
    "        dic1[i] = 0\n",
    "    for j in b:\n",
    "        dic2[j] = 0\n",
    "    for i in a:\n",
    "        dic1[i] += 1\n",
    "    for j in b:\n",
    "        dic2[j] += 1\n",
    "    if dic2 == dic1:\n",
    "        print(\"Yes Permutations\")\n",
    "    else:\n",
    "        print(\"NOT Permutations\")\n",
    "else:\n",
    "    print(\"CANNOT be a Permutation\")\n"
   ]
  },
  {
   "cell_type": "code",
   "execution_count": 6,
   "id": "61d9b33e-4403-450d-a1eb-3a77c66e1df5",
   "metadata": {},
   "outputs": [
    {
     "name": "stdout",
     "output_type": "stream",
     "text": [
      "Input two sentences to check if they are permutations of each other\n"
     ]
    },
    {
     "name": "stdin",
     "output_type": "stream",
     "text": [
      "Enter first sentence:  dd\n",
      "Enter second sentence:  df\n"
     ]
    },
    {
     "name": "stdout",
     "output_type": "stream",
     "text": [
      "no permu\n"
     ]
    }
   ],
   "source": [
    "import numpy as np\n",
    "import pandas as pd\n",
    "\n",
    "print(\"Input two sentences to check if they are permutations of each other\")\n",
    "a = input(\"Enter first sentence: \")\n",
    "b = input(\"Enter second sentence: \")\n",
    "\n",
    "if(sorted(a) == sorted(b)):\n",
    "    print(\"yes permu\")\n",
    "else:\n",
    "    print(\"no permu\")"
   ]
  },
  {
   "cell_type": "code",
   "execution_count": null,
   "id": "40eda96f-9521-4dfb-83bd-23bdf9162290",
   "metadata": {},
   "outputs": [],
   "source": []
  }
 ],
 "metadata": {
  "kernelspec": {
   "display_name": "Python 3 (ipykernel)",
   "language": "python",
   "name": "python3"
  },
  "language_info": {
   "codemirror_mode": {
    "name": "ipython",
    "version": 3
   },
   "file_extension": ".py",
   "mimetype": "text/x-python",
   "name": "python",
   "nbconvert_exporter": "python",
   "pygments_lexer": "ipython3",
   "version": "3.11.5"
  }
 },
 "nbformat": 4,
 "nbformat_minor": 5
}
