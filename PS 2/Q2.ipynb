{
 "cells": [
  {
   "cell_type": "code",
   "execution_count": 1,
   "id": "44d99c4c-15a6-4f19-ae85-606f2488183d",
   "metadata": {},
   "outputs": [
    {
     "name": "stdout",
     "output_type": "stream",
     "text": [
      "  Name  Mark 1  Mark 2\n",
      "0  def       8       3\n",
      "1  abc       7       6\n",
      "2  ghi       9       8\n"
     ]
    }
   ],
   "source": [
    "import numpy as np\n",
    "import pandas as pd\n",
    "# continuation of Q1. I have just copied the initial code. Making seperate files for ease.\n",
    "dict = {\"Name\":[\"abc\",\"def\",\"ghi\"],\"Mark 1\":[7,8,9],\"Mark 2\":[6,3,8]}\n",
    "df=pd.DataFrame(dict)\n",
    "row = df.shape[0]\n",
    "\n",
    "for i in range(row):\n",
    "    for j in range(row-i-1):\n",
    "        if(df.iloc[j,2] > df.iloc[j+1,2]):\n",
    "            df.iloc[j], df.iloc[j + 1] = df.iloc[j + 1], df.iloc[j]\n",
    "print(df)"
   ]
  },
  {
   "cell_type": "code",
   "execution_count": null,
   "id": "7dcf7b79-5eab-4744-8bbb-98d0f38f0b3c",
   "metadata": {},
   "outputs": [],
   "source": []
  }
 ],
 "metadata": {
  "kernelspec": {
   "display_name": "Python 3 (ipykernel)",
   "language": "python",
   "name": "python3"
  },
  "language_info": {
   "codemirror_mode": {
    "name": "ipython",
    "version": 3
   },
   "file_extension": ".py",
   "mimetype": "text/x-python",
   "name": "python",
   "nbconvert_exporter": "python",
   "pygments_lexer": "ipython3",
   "version": "3.11.5"
  }
 },
 "nbformat": 4,
 "nbformat_minor": 5
}
