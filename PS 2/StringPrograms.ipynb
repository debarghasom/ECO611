{
 "cells": [
  {
   "cell_type": "code",
   "execution_count": 1,
   "id": "64e74429",
   "metadata": {},
   "outputs": [
    {
     "name": "stdout",
     "output_type": "stream",
     "text": [
      "Enter a stringDebargha Theek hau 778%\n",
      "There are 2 upper case characters.\n",
      "There are 14 lower case characters\n",
      "There are 3 digits and 4 other characters\n"
     ]
    }
   ],
   "source": [
    "s=input(\"Enter a string\")\n",
    "upp,low,num,oth=0,0,0,0\n",
    "for i in range(len(s)):\n",
    "    if(s[i].isupper()):\n",
    "        upp+=1\n",
    "    elif(s[i].islower()):\n",
    "        low+=1\n",
    "    elif(s[i].isdigit()):\n",
    "        num+=1\n",
    "print(f\"There are {upp} upper case characters.\\nThere are {low} lower case characters\\nThere are {num} digits and {len(s)-upp-low-num} other characters\")"
   ]
  },
  {
   "cell_type": "code",
   "execution_count": 6,
   "id": "65341f69",
   "metadata": {},
   "outputs": [],
   "source": [
    "def permutation():\n",
    "    a1=input(\"Enter first string\")\n",
    "    a2=input(\"Enter second string\")\n",
    "    if(len(a1)!=len(a2)):\n",
    "        print(\"Not permutation\")\n",
    "        return\n",
    "    for i in range(len(a1)):\n",
    "        if(a1.count(a1[i])!=a2.count(a1[i])):\n",
    "            print(\"Not permutation\")\n",
    "            return\n",
    "    print(\"They are permutations of each other\")"
   ]
  },
  {
   "cell_type": "code",
   "execution_count": 7,
   "id": "618ee6c3",
   "metadata": {},
   "outputs": [
    {
     "name": "stdout",
     "output_type": "stream",
     "text": [
      "Enter first stringyou are\n",
      "Enter second stringare you\n",
      "They are permutations of each other\n"
     ]
    }
   ],
   "source": [
    "permutation()"
   ]
  },
  {
   "cell_type": "code",
   "execution_count": 1,
   "id": "498b266d",
   "metadata": {},
   "outputs": [],
   "source": [
    "def numofcharineachword():\n",
    "    a1=input(\"Enter a string\").strip()#removes whitespaces at the beginning and end\n",
    "    word=\"\"\n",
    "    for i in range(len(a1)-1):\n",
    "        if(a1[i]!=\" \"):\n",
    "            word=word+a1[i]\n",
    "        elif(a1[i]==\" \" and a1[i+1]!=\" \"):\n",
    "            print(len(word))\n",
    "            word=\"\"\n",
    "    print(len(word)+1)\n",
    "\n",
    "        \n",
    "    "
   ]
  },
  {
   "cell_type": "code",
   "execution_count": 2,
   "id": "de3b02e9",
   "metadata": {},
   "outputs": [
    {
     "name": "stdout",
     "output_type": "stream",
     "text": [
      "Enter a stringI am tired\n",
      "1\n",
      "2\n",
      "5\n"
     ]
    }
   ],
   "source": [
    "numofcharineachword()"
   ]
  },
  {
   "cell_type": "code",
   "execution_count": 12,
   "id": "c51f71ef",
   "metadata": {},
   "outputs": [],
   "source": [
    "def longest_substring():\n",
    "    import numpy as np\n",
    "    a=input(\"Enter first string \")\n",
    "    b=input(\"Enter second string \")\n",
    "    c=[]\n",
    "    l=\"\"\n",
    "    for i in range(len(a)):\n",
    "        if(b.index(a[i])!=-1):\n",
    "            l=l+a[i]\n",
    "            z=b.index(a[i])\n",
    "            for j in range(1,np.min(len(b)-b.index(a[i]),len(a)-i)):\n",
    "                if(a[i+j]!=b[z+j]):\n",
    "                    c.append(l)\n",
    "                    l=\"\"\n",
    "                    break\n",
    "                else:\n",
    "                    l=l+a[i+j]\n",
    "    x=0\n",
    "    y=\"\"\n",
    "    for i in c:\n",
    "        if(len(c[i])>x):\n",
    "            x=len(c[i])\n",
    "            y=c[i]\n",
    "    print(c[i])\n",
    "            "
   ]
  },
  {
   "cell_type": "code",
   "execution_count": null,
   "id": "9a3d055d-f274-40ad-84fc-e49748e0a15e",
   "metadata": {},
   "outputs": [],
   "source": [
    "### import numpy as np\n",
    "\n",
    "def longest_substring1():\n",
    "    a = input(\"Enter first string: \")\n",
    "    b = input(\"Enter second string: \")\n",
    "    c = []\n",
    "    l = \"\"\n",
    "\n",
    "    for i in range(len(a)):\n",
    "        if a[i] in b:\n",
    "            l = a[i]\n",
    "            z = b.index(a[i])\n",
    "\n",
    "            for j in range(1, min(len(b) - z, len(a) - i)):\n",
    "                if a[i + j] != b[z + j]:\n",
    "                    c.append(l)\n",
    "                    l = \"\"\n",
    "                    break\n",
    "                else:\n",
    "                    l = l + a[i + j]\n",
    "\n",
    "            c.append(l)\n",
    "\n",
    "    x = 0\n",
    "    y = \"\"\n",
    "\n",
    "    for i in c:\n",
    "        if len(i) > x:\n",
    "            x = len(i)\n",
    "            y = i\n",
    "\n",
    "    print(\"Longest common substring:\", y)\n",
    "\n",
    "# Example usage with the provided strings\n",
    "longest_substring1()\n"
   ]
  },
  {
   "cell_type": "code",
   "execution_count": null,
   "id": "17c34665",
   "metadata": {},
   "outputs": [],
   "source": []
  }
 ],
 "metadata": {
  "kernelspec": {
   "display_name": "Python 3 (ipykernel)",
   "language": "python",
   "name": "python3"
  },
  "language_info": {
   "codemirror_mode": {
    "name": "ipython",
    "version": 3
   },
   "file_extension": ".py",
   "mimetype": "text/x-python",
   "name": "python",
   "nbconvert_exporter": "python",
   "pygments_lexer": "ipython3",
   "version": "3.11.5"
  }
 },
 "nbformat": 4,
 "nbformat_minor": 5
}
