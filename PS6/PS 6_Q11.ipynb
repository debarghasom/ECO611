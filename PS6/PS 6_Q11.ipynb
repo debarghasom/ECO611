{
 "cells": [
  {
   "cell_type": "code",
   "execution_count": 1,
   "id": "392b1205-a2a1-4ec5-b6b7-1681115c0a39",
   "metadata": {
    "tags": []
   },
   "outputs": [
    {
     "name": "stdout",
     "output_type": "stream",
     "text": [
      "0.4935\n",
      "0.4935\n",
      "0.4934 0.0\n",
      "0.195 1.2768583171304563e-166\n"
     ]
    }
   ],
   "source": [
    "# problem 11\n",
    "\n",
    "import numpy as np\n",
    "import pandas as pd\n",
    "import matplotlib.pyplot as plt\n",
    "import scipy.stats as st\n",
    "\n",
    "data = pd.read_csv(\"data2.csv\",header=None)\n",
    "#print(data)\n",
    "\n",
    "sample1 = data.iloc[:,0]\n",
    "\n",
    "x1=np.sort(data.iloc[:,0])\n",
    "\n",
    "sigma_2 = (np.sum((np.log(x1)-0))**2)/len(x1)\n",
    "\n",
    "lg = np.random.lognormal(0,sigma_2,len(x1))\n",
    "\n",
    "beta = np.mean(x1)/3\n",
    "gm = np.random.gamma(3,beta,len(x1))\n",
    "\n",
    "cdf1 = np.searchsorted(x1, sample1, side='right') / len(x1)\n",
    "cdf2 = np.searchsorted(lg, sample1, side='right') / len(x1)\n",
    "cdf3 = np.searchsorted(gm, sample1, side='right') / len(x1)\n",
    "\n",
    "\n",
    "# Calculate the maximum absolute difference between the CDFs\n",
    "ks_statistic_lg = np.max(np.abs(cdf1-cdf2))\n",
    "ks_statistic_gm = np.max(np.abs(cdf1-cdf2))\n",
    "\n",
    "print(ks_statistic_lg)\n",
    "print(ks_statistic_gm)\n",
    "\n",
    "Dn1, p1 = st.kstest(cdf1,cdf2)\n",
    "Dn2, p2 = st.kstest(cdf1,cdf3)\n",
    "print(Dn1,p1)\n",
    "print(Dn2,p2)"
   ]
  },
  {
   "cell_type": "code",
   "execution_count": null,
   "id": "4d68ec53-298b-47bb-ba38-48ae275a843d",
   "metadata": {},
   "outputs": [],
   "source": []
  }
 ],
 "metadata": {
  "kernelspec": {
   "display_name": "Python 3 (ipykernel)",
   "language": "python",
   "name": "python3"
  },
  "language_info": {
   "codemirror_mode": {
    "name": "ipython",
    "version": 3
   },
   "file_extension": ".py",
   "mimetype": "text/x-python",
   "name": "python",
   "nbconvert_exporter": "python",
   "pygments_lexer": "ipython3",
   "version": "3.11.5"
  }
 },
 "nbformat": 4,
 "nbformat_minor": 5
}
