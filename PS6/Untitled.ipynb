{
 "cells": [
  {
   "cell_type": "code",
   "execution_count": 4,
   "id": "00a94189-cfd7-4b46-b8b6-898cc0f3f56b",
   "metadata": {
    "tags": []
   },
   "outputs": [
    {
     "ename": "ValueError",
     "evalue": "matmul: Input operand 1 has a mismatch in its core dimension 0, with gufunc signature (n?,k),(k,m?)->(n?,m?) (size 2 is different from 1)",
     "output_type": "error",
     "traceback": [
      "\u001b[1;31m---------------------------------------------------------------------------\u001b[0m",
      "\u001b[1;31mValueError\u001b[0m                                Traceback (most recent call last)",
      "Cell \u001b[1;32mIn[4], line 11\u001b[0m\n\u001b[0;32m      9\u001b[0m h\u001b[38;5;241m=\u001b[39mnp\u001b[38;5;241m.\u001b[39marray([[p\u001b[38;5;241m*\u001b[39m(\u001b[38;5;241m2\u001b[39m\u001b[38;5;241m*\u001b[39m(x[\u001b[38;5;241m0\u001b[39m]\u001b[38;5;241m*\u001b[39m\u001b[38;5;241m*\u001b[39m\u001b[38;5;241m2\u001b[39m \u001b[38;5;241m+\u001b[39m x[\u001b[38;5;241m1\u001b[39m]\u001b[38;5;241m*\u001b[39m\u001b[38;5;241m*\u001b[39m\u001b[38;5;241m2\u001b[39m \u001b[38;5;241m-\u001b[39m \u001b[38;5;241m1\u001b[39m)) \u001b[38;5;241m+\u001b[39m \u001b[38;5;241m4\u001b[39m\u001b[38;5;241m*\u001b[39mx[\u001b[38;5;241m0\u001b[39m]\u001b[38;5;241m*\u001b[39m\u001b[38;5;241m*\u001b[39m\u001b[38;5;241m2\u001b[39m , p\u001b[38;5;241m*\u001b[39m\u001b[38;5;241m4\u001b[39m\u001b[38;5;241m*\u001b[39mx[\u001b[38;5;241m0\u001b[39m]\u001b[38;5;241m*\u001b[39mx[\u001b[38;5;241m1\u001b[39m]],[p\u001b[38;5;241m*\u001b[39m\u001b[38;5;241m4\u001b[39m\u001b[38;5;241m*\u001b[39mx[\u001b[38;5;241m0\u001b[39m]\u001b[38;5;241m*\u001b[39mx[\u001b[38;5;241m1\u001b[39m] , p\u001b[38;5;241m*\u001b[39m(\u001b[38;5;241m2\u001b[39m\u001b[38;5;241m*\u001b[39m(x[\u001b[38;5;241m0\u001b[39m]\u001b[38;5;241m*\u001b[39m\u001b[38;5;241m*\u001b[39m\u001b[38;5;241m2\u001b[39m \u001b[38;5;241m+\u001b[39m x[\u001b[38;5;241m1\u001b[39m]\u001b[38;5;241m*\u001b[39m\u001b[38;5;241m*\u001b[39m\u001b[38;5;241m2\u001b[39m \u001b[38;5;241m-\u001b[39m \u001b[38;5;241m1\u001b[39m)) \u001b[38;5;241m+\u001b[39m \u001b[38;5;241m4\u001b[39m\u001b[38;5;241m*\u001b[39mx[\u001b[38;5;241m1\u001b[39m]\u001b[38;5;241m*\u001b[39m\u001b[38;5;241m*\u001b[39m\u001b[38;5;241m2\u001b[39m]])\n\u001b[0;32m     10\u001b[0m dk\u001b[38;5;241m=\u001b[39m \u001b[38;5;241m-\u001b[39mgk\n\u001b[1;32m---> 11\u001b[0m al \u001b[38;5;241m=\u001b[39m gk\u001b[38;5;241m.\u001b[39mT\u001b[38;5;129m@gk\u001b[39m\u001b[38;5;241m/\u001b[39m(gk\u001b[38;5;129m@h\u001b[39m\u001b[38;5;129m@gk\u001b[39m)\n\u001b[0;32m     12\u001b[0m x \u001b[38;5;241m=\u001b[39m x \u001b[38;5;241m+\u001b[39m al\u001b[38;5;241m*\u001b[39mdk\n\u001b[0;32m     13\u001b[0m \u001b[38;5;28mprint\u001b[39m(x)\n",
      "\u001b[1;31mValueError\u001b[0m: matmul: Input operand 1 has a mismatch in its core dimension 0, with gufunc signature (n?,k),(k,m?)->(n?,m?) (size 2 is different from 1)"
     ]
    }
   ],
   "source": [
    "import numpy as np\n",
    "\n",
    "p=10000\n",
    "x=np.array([5,5])\n",
    "gk=np.array([1 + p*(2*(x[0]**2 + x[1]**2 - 1)*x[0]),1 + p*(2*(x[0]**2 + x[1]**2 - 1)*x[1])])\n",
    "h=np.array([[p*(2*(x[0]**2 + x[1]**2 - 1)) + 4*x[0]**2 , p*4*x[0]*x[1]],[p*4*x[0]*x[1] , p*(2*(x[0]**2 + x[1]**2 - 1)) + 4*x[1]**2]])\n",
    "while np.linalg.norm(gk) >= 1e-6:\n",
    "    gk=np.array([[1 + p*(2*(x[0]**2 + x[1]**2 - 1)*x[0])],[1 + p*(2*(x[0]**2 + x[1]**2 - 1)*x[1])]])\n",
    "    h=np.array([[p*(2*(x[0]**2 + x[1]**2 - 1)) + 4*x[0]**2 , p*4*x[0]*x[1]],[p*4*x[0]*x[1] , p*(2*(x[0]**2 + x[1]**2 - 1)) + 4*x[1]**2]])\n",
    "    dk= -gk\n",
    "    al = gk.T@gk/(gk@h@gk)\n",
    "    x = x + al*dk\n",
    "    print(x)"
   ]
  },
  {
   "cell_type": "code",
   "execution_count": 3,
   "id": "8c85d340-8c93-4308-9847-8de9b19331e4",
   "metadata": {
    "tags": []
   },
   "outputs": [
    {
     "ename": "LinAlgError",
     "evalue": "Singular matrix",
     "output_type": "error",
     "traceback": [
      "\u001b[1;31m---------------------------------------------------------------------------\u001b[0m",
      "\u001b[1;31mLinAlgError\u001b[0m                               Traceback (most recent call last)",
      "Cell \u001b[1;32mIn[3], line 17\u001b[0m\n\u001b[0;32m     15\u001b[0m gk \u001b[38;5;241m=\u001b[39m jacobian(x)\u001b[38;5;241m.\u001b[39mT \u001b[38;5;241m@\u001b[39m constraint(x)\n\u001b[0;32m     16\u001b[0m h \u001b[38;5;241m=\u001b[39m jacobian(x)\u001b[38;5;241m.\u001b[39mT \u001b[38;5;241m@\u001b[39m jacobian(x)\n\u001b[1;32m---> 17\u001b[0m dk \u001b[38;5;241m=\u001b[39m \u001b[38;5;241m-\u001b[39mnp\u001b[38;5;241m.\u001b[39mlinalg\u001b[38;5;241m.\u001b[39msolve(h, gk)\n\u001b[0;32m     18\u001b[0m al \u001b[38;5;241m=\u001b[39m (gk \u001b[38;5;241m@\u001b[39m gk) \u001b[38;5;241m/\u001b[39m (gk \u001b[38;5;241m@\u001b[39m h \u001b[38;5;241m@\u001b[39m gk)\n\u001b[0;32m     19\u001b[0m x \u001b[38;5;241m=\u001b[39m x \u001b[38;5;241m+\u001b[39m al \u001b[38;5;241m*\u001b[39m dk\n",
      "File \u001b[1;32m<__array_function__ internals>:200\u001b[0m, in \u001b[0;36msolve\u001b[1;34m(*args, **kwargs)\u001b[0m\n",
      "File \u001b[1;32m~\\anaconda3\\Lib\\site-packages\\numpy\\linalg\\linalg.py:386\u001b[0m, in \u001b[0;36msolve\u001b[1;34m(a, b)\u001b[0m\n\u001b[0;32m    384\u001b[0m signature \u001b[38;5;241m=\u001b[39m \u001b[38;5;124m'\u001b[39m\u001b[38;5;124mDD->D\u001b[39m\u001b[38;5;124m'\u001b[39m \u001b[38;5;28;01mif\u001b[39;00m isComplexType(t) \u001b[38;5;28;01melse\u001b[39;00m \u001b[38;5;124m'\u001b[39m\u001b[38;5;124mdd->d\u001b[39m\u001b[38;5;124m'\u001b[39m\n\u001b[0;32m    385\u001b[0m extobj \u001b[38;5;241m=\u001b[39m get_linalg_error_extobj(_raise_linalgerror_singular)\n\u001b[1;32m--> 386\u001b[0m r \u001b[38;5;241m=\u001b[39m gufunc(a, b, signature\u001b[38;5;241m=\u001b[39msignature, extobj\u001b[38;5;241m=\u001b[39mextobj)\n\u001b[0;32m    388\u001b[0m \u001b[38;5;28;01mreturn\u001b[39;00m wrap(r\u001b[38;5;241m.\u001b[39mastype(result_t, copy\u001b[38;5;241m=\u001b[39m\u001b[38;5;28;01mFalse\u001b[39;00m))\n",
      "File \u001b[1;32m~\\anaconda3\\Lib\\site-packages\\numpy\\linalg\\linalg.py:89\u001b[0m, in \u001b[0;36m_raise_linalgerror_singular\u001b[1;34m(err, flag)\u001b[0m\n\u001b[0;32m     88\u001b[0m \u001b[38;5;28;01mdef\u001b[39;00m \u001b[38;5;21m_raise_linalgerror_singular\u001b[39m(err, flag):\n\u001b[1;32m---> 89\u001b[0m     \u001b[38;5;28;01mraise\u001b[39;00m LinAlgError(\u001b[38;5;124m\"\u001b[39m\u001b[38;5;124mSingular matrix\u001b[39m\u001b[38;5;124m\"\u001b[39m)\n",
      "\u001b[1;31mLinAlgError\u001b[0m: Singular matrix"
     ]
    }
   ],
   "source": [
    "import numpy as np\n",
    "\n",
    "p = 10000\n",
    "x = np.array([5, 5])\n",
    "\n",
    "# Define the equality constraint function and its Jacobian\n",
    "def constraint(x):\n",
    "    return np.array([x[0]**2 + x[1]**2 - 1, x[0] + x[1]])\n",
    "\n",
    "def jacobian(x):\n",
    "    return np.array([[2*x[0], 2*x[1]], [1, 1]])\n",
    "\n",
    "# Main optimization loop\n",
    "while np.linalg.norm(constraint(x)) >= 1e-6:\n",
    "    gk = jacobian(x).T @ constraint(x)\n",
    "    h = jacobian(x).T @ jacobian(x)\n",
    "    dk = -np.linalg.solve(h, gk)\n",
    "    al = (gk @ gk) / (gk @ h @ gk)\n",
    "    x = x + al * dk\n",
    "    print(\"x:\", x, \"Constraints:\", constraint(x))\n",
    "\n",
    "print(\"Final solution:\", x)\n"
   ]
  },
  {
   "cell_type": "code",
   "execution_count": null,
   "id": "66b26a54-787f-44bc-b4f0-00c1bfe82b99",
   "metadata": {},
   "outputs": [],
   "source": []
  }
 ],
 "metadata": {
  "kernelspec": {
   "display_name": "Python 3 (ipykernel)",
   "language": "python",
   "name": "python3"
  },
  "language_info": {
   "codemirror_mode": {
    "name": "ipython",
    "version": 3
   },
   "file_extension": ".py",
   "mimetype": "text/x-python",
   "name": "python",
   "nbconvert_exporter": "python",
   "pygments_lexer": "ipython3",
   "version": "3.11.5"
  }
 },
 "nbformat": 4,
 "nbformat_minor": 5
}
