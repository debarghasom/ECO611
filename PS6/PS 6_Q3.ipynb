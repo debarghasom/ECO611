{
 "cells": [
  {
   "cell_type": "code",
   "execution_count": 1,
   "id": "4d42e77e-381f-42a7-891b-3440be846787",
   "metadata": {
    "tags": []
   },
   "outputs": [],
   "source": [
    "import numpy as np\n",
    "def f(x):\n",
    "    y = np.array(x[0]**2*np.exp(x[1]) + x[1]**2*np.exp(x[0]))\n",
    "    return y\n",
    "def H(x):\n",
    "    H = np.array([[2*np.exp(x[1]) + x[1]**2*np.exp(x[0]), 2*(x[0]*np.exp(x[1]) + x[1]*np.exp(x[0]))],\n",
    "                [2*(x[1]*np.exp(x[0]) + x[0]*np.exp(x[1])), 2*np.exp(x[0]) + x[0]**2*np.exp(x[1])]])\n",
    "    return H\n",
    "def g(x):\n",
    "    g = np.array([2*x[0]*np.exp(x[1]) + np.exp(x[0])*(x[1])**2 , 2*x[1]*np.exp(x[0]) + np.exp(x[1])*(x[0])]) #defined in row\n",
    "    return g"
   ]
  },
  {
   "cell_type": "code",
   "execution_count": 3,
   "id": "e88b8b54-09c9-4962-bbf0-b1840fedb57c",
   "metadata": {
    "tags": []
   },
   "outputs": [
    {
     "name": "stdout",
     "output_type": "stream",
     "text": [
      "[0.18451545 0.18451545]\n",
      "[0.13604  0.117944]\n",
      "[0.10383227 0.07561069]\n",
      "[0.08080052 0.04763522]\n",
      "[0.06360599 0.02883217]\n",
      "[0.05042408 0.01614038]\n",
      "[0.04014777 0.00762091]\n",
      "[0.03205075 0.0019888 ]\n",
      "[ 0.02562743 -0.00163337]\n",
      "[ 0.02051003 -0.00385678]\n",
      "[ 0.0164223  -0.00511255]\n",
      "[ 0.01233434 -0.00585557]\n",
      "[ 0.00753759 -0.00593483]\n",
      "[ 0.00180736 -0.004231  ]\n",
      "[ 8.24527562e-05 -1.04688045e-03]\n",
      "[ 4.19671567e-05 -5.55775213e-04]\n",
      "[ 2.14113518e-05 -2.94629403e-04]\n",
      "[ 1.09384766e-05 -1.55990151e-04]\n",
      "[ 5.59231593e-06 -8.24923617e-05]\n",
      "[ 2.86025678e-06 -4.35778618e-05]\n",
      "[ 1.46324425e-06 -2.29978226e-05]\n",
      "[ 7.48656824e-07 -1.21256297e-05]\n",
      "[ 3.83070271e-07 -6.38768299e-06]\n",
      "[ 1.96015473e-07 -3.36221838e-06]\n",
      "[ 1.00302355e-07 -1.76836504e-06]\n",
      "[ 5.13259188e-08 -9.29393299e-07]\n",
      "[ 2.62642474e-08 -4.88118684e-07]\n"
     ]
    }
   ],
   "source": [
    "#gradient desc with inexact\n",
    "import numpy as np\n",
    "x=np.array([1,1])\n",
    "\n",
    "c2,c1=0.4,0.8\n",
    "while (np.linalg.norm(g(x)) >= 1e-6):\n",
    "    gk = np.array(g(x))\n",
    "    dk = -gk\n",
    "    al=0.1 \n",
    "    while not (f(x + al*dk) <= (f(x) + c2*al*np.dot(dk,gk))):\n",
    "        al=c2*al\n",
    "    while not (f(x + al*dk) >= (f(x) + c1*al*np.dot(dk,gk))):\n",
    "        al=(1/c1)*al\n",
    "    x = x + al*dk\n",
    "    print(x)\n"
   ]
  },
  {
   "cell_type": "code",
   "execution_count": 4,
   "id": "ed5bba4e-67f2-452a-84e5-a0c1070494d6",
   "metadata": {},
   "outputs": [
    {
     "name": "stdout",
     "output_type": "stream",
     "text": [
      "[0.18451545 0.18451545]\n",
      "[0.13188196 0.11378596]\n",
      "[0.08049214 0.04568643]\n",
      "[0.06341495 0.02735777]\n",
      "[0.04147185 0.00553503]\n",
      "[ 0.02650279 -0.00637817]\n",
      "[ 0.02123176 -0.00770171]\n",
      "[ 0.01378323 -0.00904591]\n",
      "[ 0.00786155 -0.00915169]\n",
      "[ 0.00039224 -0.0040696 ]\n",
      "[-0.00028116 -0.00220344]\n",
      "[-0.00035198 -0.00138442]\n",
      "[-0.00028187 -0.00107249]\n",
      "[-0.00018314 -0.00064066]\n",
      "[-0.00011032 -0.00033566]\n",
      "[-8.82759074e-05 -2.57507724e-04]\n",
      "[-5.74254834e-05 -1.50367785e-04]\n",
      "[-3.48976540e-05 -7.61902926e-05]\n",
      "[-2.79192354e-05 -5.74632663e-05]\n",
      "[-1.82264330e-05 -3.21507829e-05]\n",
      "[-1.12272234e-05 -1.51389065e-05]\n",
      "[-8.98183567e-06 -1.09884539e-05]\n",
      "[-5.8937004e-06 -5.5048013e-06]\n",
      "[-3.69132099e-06 -1.99677064e-06]\n",
      "[-2.95305867e-06 -1.22828663e-06]\n",
      "[-1.94542856e-06 -2.53234065e-07]\n",
      "[-1.22410255e-06  3.13454239e-07]\n",
      "[-9.79281972e-07  3.73173761e-07]\n",
      "[-6.33448148e-07  4.33051564e-07]\n",
      "[-3.59262998e-07  4.35323574e-07]\n"
     ]
    }
   ],
   "source": [
    "#conjugate descent inexact\n",
    "import numpy as np\n",
    "x=np.array([1,1])\n",
    "gk = np.array(g(x))\n",
    "dk = -gk\n",
    "c1,c2=0.8,0.4\n",
    "c=0\n",
    "while (np.linalg.norm(g(x)) >= 1e-6):\n",
    "    xc=np.copy(x)\n",
    "    al=0.1\n",
    "    while not (f(x + al*dk) <= (f(x) + c2*al*np.dot(dk,gk))):\n",
    "        al=c2*al\n",
    "    while not (f(x + al*dk) >= (f(x) + c1*al*np.dot(dk,gk))):\n",
    "        al=(1/c1)*al\n",
    "    x = x + al*dk   \n",
    "    gk = np.array(g(x))\n",
    "    if(c<=len(x)-1):\n",
    "        dk = -gk + (np.dot(gk,gk)*dk)/np.dot(g(xc),g(xc))\n",
    "        c+=1\n",
    "    else:\n",
    "        dk = -gk\n",
    "        c=0\n",
    "    print(x)"
   ]
  },
  {
   "cell_type": "code",
   "execution_count": 6,
   "id": "1bbe0508-3f41-4590-b1c9-a0889e8e7659",
   "metadata": {},
   "outputs": [
    {
     "name": "stdout",
     "output_type": "stream",
     "text": [
      "[1.84776623 0.36417533]\n",
      "[ 2.93034998 -0.6606918 ]\n",
      "[ 2.51854927 -0.31957646]\n",
      "[ 0.59440712 -0.39158892]\n",
      "[-0.00580866 -0.22386841]\n",
      "[0.03448931 0.01154177]\n",
      "[ 0.00117828 -0.01533054]\n",
      "[ 9.29640489e-05 -5.94883914e-04]\n",
      "[ 9.84221725e-08 -4.64966823e-05]\n",
      "[ 1.07416138e-09 -4.92133101e-08]\n"
     ]
    }
   ],
   "source": [
    "import numpy as np\n",
    "x=np.array([2,1])\n",
    "al=1\n",
    "\n",
    "while (np.linalg.norm(g(x))>=1e-6):\n",
    "    dk=-np.linalg.pinv(H(x))@g(x)\n",
    "    x = x + al*dk\n",
    "    print(x)"
   ]
  },
  {
   "cell_type": "code",
   "execution_count": null,
   "id": "a1909923-129f-48d6-909f-7a41a8584468",
   "metadata": {},
   "outputs": [],
   "source": []
  }
 ],
 "metadata": {
  "kernelspec": {
   "display_name": "Python 3 (ipykernel)",
   "language": "python",
   "name": "python3"
  },
  "language_info": {
   "codemirror_mode": {
    "name": "ipython",
    "version": 3
   },
   "file_extension": ".py",
   "mimetype": "text/x-python",
   "name": "python",
   "nbconvert_exporter": "python",
   "pygments_lexer": "ipython3",
   "version": "3.11.5"
  }
 },
 "nbformat": 4,
 "nbformat_minor": 5
}
