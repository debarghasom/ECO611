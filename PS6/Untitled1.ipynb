{
 "cells": [
  {
   "cell_type": "code",
   "execution_count": 15,
   "id": "f16a5cc4-acce-4463-8454-3bd12d5e7972",
   "metadata": {
    "tags": []
   },
   "outputs": [
    {
     "name": "stdout",
     "output_type": "stream",
     "text": [
      "[[-0.24640576  0.60171324  0.09050187 -0.75315259 -0.04237887]\n",
      " [ 0.64800782  0.2668964  -0.47826803 -0.02650297 -0.52859197]\n",
      " [-0.23516176  0.71019135  0.08542232  0.65683827 -0.03992129]\n",
      " [-0.10428161  0.10310547 -0.76972195 -0.01095657  0.62121065]\n",
      " [ 0.67319712  0.22738734  0.40410426 -0.02240997  0.57558507]]\n",
      "0\n",
      "[ 16.7034643  148.88922993  94.55653727   0.79287343  62.99327188]\n",
      "1\n",
      "[-77.51068762 110.08504053 164.0921436    4.64615242 139.84549956]\n",
      "2\n",
      "[-111.99003385  214.21308141  176.61673834  100.95158202  133.99225192]\n",
      "3\n",
      "[-115.57562929  217.75823693  150.15079056  100.57485382  155.35182036]\n",
      "4\n"
     ]
    },
    {
     "ename": "IndexError",
     "evalue": "index 5 is out of bounds for axis 0 with size 5",
     "output_type": "error",
     "traceback": [
      "\u001b[1;31m---------------------------------------------------------------------------\u001b[0m",
      "\u001b[1;31mIndexError\u001b[0m                                Traceback (most recent call last)",
      "Cell \u001b[1;32mIn[15], line 21\u001b[0m\n\u001b[0;32m     19\u001b[0m     \u001b[38;5;28mprint\u001b[39m(count)\n\u001b[0;32m     20\u001b[0m     count\u001b[38;5;241m+\u001b[39m\u001b[38;5;241m=\u001b[39m\u001b[38;5;241m1\u001b[39m \n\u001b[1;32m---> 21\u001b[0m     dk\u001b[38;5;241m=\u001b[39mnp\u001b[38;5;241m.\u001b[39marray(evec[count])\n\u001b[0;32m     23\u001b[0m \u001b[38;5;28mprint\u001b[39m(x)\n",
      "\u001b[1;31mIndexError\u001b[0m: index 5 is out of bounds for axis 0 with size 5"
     ]
    }
   ],
   "source": [
    "import numpy as np\n",
    "X = np.random.randint(-9,10,(5,5))\n",
    "A = X@X.T + np.identity(X.shape[1])\n",
    "c = np.random.randint(-9,10,5)\n",
    "def g(A,c,x):\n",
    "    return A@x + c\n",
    "#I make an initial guess \n",
    "x = np.random.randint(1,100,5)\n",
    "evec = np.linalg.eig(A)[1]\n",
    "print(evec)\n",
    "count = 0\n",
    "gk=g(A,c,x)\n",
    "dk=(evec[0])\n",
    "\n",
    "while (np.linalg.norm(gk) >= 1e-6):\n",
    "    al=(np.dot(gk,dk))/(dk.dot(A.dot(dk)))\n",
    "    x = x + al*dk\n",
    "    if count<=4:\n",
    "        print(count)\n",
    "        count+=1 \n",
    "        dk=np.array(evec[count])\n",
    "    \n",
    "    print(x)"
   ]
  },
  {
   "cell_type": "code",
   "execution_count": null,
   "id": "74e79658-96c8-428b-8bad-2a95df67cd98",
   "metadata": {},
   "outputs": [],
   "source": []
  }
 ],
 "metadata": {
  "kernelspec": {
   "display_name": "Python 3 (ipykernel)",
   "language": "python",
   "name": "python3"
  },
  "language_info": {
   "codemirror_mode": {
    "name": "ipython",
    "version": 3
   },
   "file_extension": ".py",
   "mimetype": "text/x-python",
   "name": "python",
   "nbconvert_exporter": "python",
   "pygments_lexer": "ipython3",
   "version": "3.11.5"
  }
 },
 "nbformat": 4,
 "nbformat_minor": 5
}
