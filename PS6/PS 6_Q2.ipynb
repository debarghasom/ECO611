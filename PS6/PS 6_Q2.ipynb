{
 "cells": [
  {
   "cell_type": "code",
   "execution_count": 1,
   "id": "93bd48bc-a704-4ea5-9f93-ec28f6f94896",
   "metadata": {
    "tags": []
   },
   "outputs": [
    {
     "name": "stdout",
     "output_type": "stream",
     "text": [
      "for a = -1.9, x is [4.4408921e-15 4.4408921e-15]\n",
      "for a = -1.8, x is [-8.8817842e-16 -8.8817842e-16]\n",
      "for a = -1.7, x is [1.77635684e-15 1.77635684e-15]\n",
      "for a = -1.6, x is [-8.8817842e-16 -8.8817842e-16]\n",
      "for a = -1.5, x is [0. 0.]\n",
      "for a = -1.4, x is [1.77635684e-15 1.77635684e-15]\n",
      "for a = -1.3, x is [8.8817842e-16 8.8817842e-16]\n",
      "for a = -1.2, x is [0. 0.]\n",
      "for a = -1.1, x is [0. 0.]\n",
      "for a = -1.0, x is [0. 0.]\n",
      "for a = -0.9, x is [0. 0.]\n",
      "for a = -0.8, x is [0. 0.]\n",
      "for a = -0.7, x is [0. 0.]\n",
      "for a = -0.6, x is [8.8817842e-16 8.8817842e-16]\n",
      "for a = -0.5, x is [0. 0.]\n",
      "for a = -0.4, x is [0. 0.]\n",
      "for a = -0.3, x is [0. 0.]\n",
      "for a = -0.2, x is [0. 0.]\n",
      "for a = -0.1, x is [0. 0.]\n",
      "for a = 0.0, x is [0. 0.]\n",
      "for a = 0.1, x is [0. 0.]\n",
      "for a = 0.2, x is [0. 0.]\n",
      "for a = 0.3, x is [0. 0.]\n",
      "for a = 0.4, x is [0. 0.]\n",
      "for a = 0.5, x is [0. 0.]\n",
      "for a = 0.6, x is [0. 0.]\n",
      "for a = 0.7, x is [0. 0.]\n",
      "for a = 0.8, x is [8.8817842e-16 8.8817842e-16]\n",
      "for a = 0.9, x is [-8.8817842e-16 -8.8817842e-16]\n",
      "for a = 1.0, x is [0. 0.]\n",
      "for a = 1.1, x is [0. 0.]\n",
      "for a = 1.2, x is [0. 0.]\n",
      "for a = 1.3, x is [8.8817842e-16 8.8817842e-16]\n",
      "for a = 1.4, x is [0. 0.]\n",
      "for a = 1.5, x is [0. 0.]\n",
      "for a = 1.6, x is [0. 0.]\n",
      "for a = 1.7, x is [0. 0.]\n",
      "for a = 1.8, x is [0. 0.]\n",
      "for a = 1.9, x is [-8.8817842e-16 -8.8817842e-16]\n"
     ]
    },
    {
     "data": {
      "text/plain": [
       "<function matplotlib.pyplot.show(close=None, block=None)>"
      ]
     },
     "execution_count": 1,
     "metadata": {},
     "output_type": "execute_result"
    },
    {
     "data": {
      "image/png": "[encoded data removed]",
      "text/plain": [
       "<Figure size 640x480 with 1 Axes>"
      ]
     },
     "metadata": {},
     "output_type": "display_data"
    }
   ],
   "source": [
    "import numpy as np\n",
    "import matplotlib.pyplot as plt\n",
    "y = []\n",
    "f= np.round(np.arange(-1.9,2.0,0.1),2)\n",
    "\n",
    "for a in f:\n",
    "    h = np.array([[2,a],[a,2]])\n",
    "    x=np.array([5,5])\n",
    "    c = 0\n",
    "    while ((2*x[0] + a*x[1])**2 + (2*x[1] + a*x[0])**2 >= 1e-12):\n",
    "        gk = np.array([2*x[0] + a*x[1],2*x[1] + a*x[0]])\n",
    "        dk= -gk\n",
    "        al = (gk.T@gk)/(gk.T@h@gk)\n",
    "        x = x + al*dk\n",
    "        c += 1\n",
    "        print(f\"for a = {a}, x is {x}\")\n",
    "    y.append(c)\n",
    "\n",
    "plt.plot(f,y)\n",
    "plt.show"
   ]
  },
  {
   "cell_type": "code",
   "execution_count": 4,
   "id": "184aafc5-a389-4489-baf7-571b52787ae9",
   "metadata": {},
   "outputs": [
    {
     "data": {
      "text/plain": [
       "<function numpy.round_(a, decimals=0, out=None)>"
      ]
     },
     "execution_count": 4,
     "metadata": {},
     "output_type": "execute_result"
    }
   ],
   "source": [
    "np.round"
   ]
  },
  {
   "cell_type": "code",
   "execution_count": null,
   "id": "cf5f04b4-0159-43e7-ba85-346111dc661d",
   "metadata": {},
   "outputs": [],
   "source": []
  }
 ],
 "metadata": {
  "kernelspec": {
   "display_name": "Python 3 (ipykernel)",
   "language": "python",
   "name": "python3"
  },
  "language_info": {
   "codemirror_mode": {
    "name": "ipython",
    "version": 3
   },
   "file_extension": ".py",
   "mimetype": "text/x-python",
   "name": "python",
   "nbconvert_exporter": "python",
   "pygments_lexer": "ipython3",
   "version": "3.11.5"
  }
 },
 "nbformat": 4,
 "nbformat_minor": 5
}
