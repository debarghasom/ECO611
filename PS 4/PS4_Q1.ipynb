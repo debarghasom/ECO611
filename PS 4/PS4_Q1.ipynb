{
 "cells": [
  {
   "cell_type": "code",
   "execution_count": 8,
   "id": "7a741cf9-85a3-47b0-8946-5dbc8f2b8729",
   "metadata": {
    "tags": []
   },
   "outputs": [
    {
     "name": "stdin",
     "output_type": "stream",
     "text": [
      "Enter row-dim:  2\n",
      "Enter col-dim:  4\n"
     ]
    },
    {
     "name": "stdout",
     "output_type": "stream",
     "text": [
      "Enter coefficient matrix row-wise\n",
      "Elements of 1th row:\n"
     ]
    },
    {
     "name": "stdin",
     "output_type": "stream",
     "text": [
      "Enter number:  1\n",
      "Enter number:  1\n",
      "Enter number:  1\n",
      "Enter number:  1\n"
     ]
    },
    {
     "name": "stdout",
     "output_type": "stream",
     "text": [
      "Elements of 2th row:\n"
     ]
    },
    {
     "name": "stdin",
     "output_type": "stream",
     "text": [
      "Enter number:  4\n",
      "Enter number:  3\n",
      "Enter number:  2\n",
      "Enter number:  1\n"
     ]
    },
    {
     "name": "stdout",
     "output_type": "stream",
     "text": [
      "Enter 'b' vector: \n"
     ]
    },
    {
     "name": "stdin",
     "output_type": "stream",
     "text": [
      "Enter number:  1\n",
      "Enter number:  3\n"
     ]
    },
    {
     "name": "stdout",
     "output_type": "stream",
     "text": [
      "System is consistent\n",
      "Infinte sol\n",
      " Null sapce is\n",
      " [array([ 0.18594553,  0.13607513, -0.82998685,  0.50796619]), array([ 0.49797586, -0.49396774, -0.5059921 ,  0.50198398])]\n",
      "One of the sol\n",
      " [[ 0.00000000e+00 -5.55111512e-16]\n",
      " [ 2.22044605e-16  1.11022302e-15]]\n",
      "Final answer\n",
      " [0.4 0.3 0.2 0.1]  + t0*[ 0.18594553  0.13607513 -0.82998685  0.50796619]  + t1*[ 0.49797586 -0.49396774 -0.5059921   0.50198398] "
     ]
    },
    {
     "ename": "IndexError",
     "evalue": "index 2 is out of bounds for axis 1 with size 2",
     "output_type": "error",
     "traceback": [
      "\u001b[1;31m---------------------------------------------------------------------------\u001b[0m",
      "\u001b[1;31mIndexError\u001b[0m                                Traceback (most recent call last)",
      "Cell \u001b[1;32mIn[8], line 38\u001b[0m\n\u001b[0;32m     36\u001b[0m         \u001b[38;5;28mprint\u001b[39m(\u001b[38;5;124mf\u001b[39m\u001b[38;5;124m\"\u001b[39m\u001b[38;5;124mFinal answer\u001b[39m\u001b[38;5;130;01m\\n\u001b[39;00m\u001b[38;5;124m \u001b[39m\u001b[38;5;132;01m{\u001b[39;00msol\u001b[38;5;132;01m}\u001b[39;00m\u001b[38;5;124m\"\u001b[39m, end\u001b[38;5;241m=\u001b[39m\u001b[38;5;124m\"\u001b[39m\u001b[38;5;124m \u001b[39m\u001b[38;5;124m\"\u001b[39m)\n\u001b[0;32m     37\u001b[0m         \u001b[38;5;28;01mfor\u001b[39;00m i \u001b[38;5;129;01min\u001b[39;00m \u001b[38;5;28mrange\u001b[39m(\u001b[38;5;28mlen\u001b[39m(l1)):\n\u001b[1;32m---> 38\u001b[0m             \u001b[38;5;28mprint\u001b[39m(\u001b[38;5;124mf\u001b[39m\u001b[38;5;124m\"\u001b[39m\u001b[38;5;124m + t\u001b[39m\u001b[38;5;132;01m{\u001b[39;00mi\u001b[38;5;132;01m}\u001b[39;00m\u001b[38;5;124m*\u001b[39m\u001b[38;5;132;01m{\u001b[39;00ml1[:,i]\u001b[38;5;132;01m}\u001b[39;00m\u001b[38;5;124m\"\u001b[39m, end\u001b[38;5;241m=\u001b[39m\u001b[38;5;124m\"\u001b[39m\u001b[38;5;124m \u001b[39m\u001b[38;5;124m\"\u001b[39m)\n\u001b[0;32m     39\u001b[0m \u001b[38;5;28;01melse\u001b[39;00m:\n\u001b[0;32m     40\u001b[0m     sol\u001b[38;5;241m=\u001b[39mnp\u001b[38;5;241m.\u001b[39mlinalg\u001b[38;5;241m.\u001b[39mlstsq(A,b,rcond\u001b[38;5;241m=\u001b[39m\u001b[38;5;28;01mNone\u001b[39;00m)\n",
      "\u001b[1;31mIndexError\u001b[0m: index 2 is out of bounds for axis 1 with size 2"
     ]
    }
   ],
   "source": [
    "import numpy as np\n",
    "\n",
    "ro = int(input(\"Enter row-dim: \"))\n",
    "co = int(input(\"Enter col-dim: \"))\n",
    "A = np.zeros((ro, co))\n",
    "\n",
    "print(\"Enter coefficient matrix row-wise\")\n",
    "for i in range(ro):\n",
    "    print(f\"Elements of {i+1}th row:\")\n",
    "    for j in range(co):\n",
    "        A[i][j] = int(input(\"Enter number: \"))\n",
    "\n",
    "b,l1=[],[]    \n",
    "print(\"Enter 'b' vector: \")\n",
    "for i in range(ro):\n",
    "    c = int(input(\"Enter number: \"))\n",
    "    b.append(c)\n",
    "b=np.array(b)\n",
    "\n",
    "Ab_aug = np.column_stack((A, b))\n",
    "\n",
    "if(np.linalg.matrix_rank(Ab_aug) == np.linalg.matrix_rank(A)):\n",
    "    print(\"System is consistent\")\n",
    "    if(np.linalg.matrix_rank(A) == co):\n",
    "        sol=np.linalg.lstsq(A,b,rcond=None)[0]\n",
    "        print(\"System has a unique sol.\\n\",sol)\n",
    "    else:\n",
    "        sol=np.linalg.lstsq(A,b,rcond=None)[0]\n",
    "        v=np.linalg.eig(A.T@A)[1] #as eig of AtA gives us directly V, and not Vt (which is given by .svd()). Indexing [1] to get the eigen values ka vector\n",
    "        r=np.linalg.matrix_rank(A)\n",
    "        for i in range(r,len(v)):\n",
    "            l1.append(v[:,i])\n",
    "        print(\"Infinte sol\\n Null sapce is\\n\",l1)\n",
    "        l1=np.array(l1).T\n",
    "        print(\"One of the sol\\n\",A@l1)\n",
    "        print(f\"Final answer\\n {sol}\", end=\" \")\n",
    "        for i in range(len(l1)):\n",
    "            print(f\" + t{i}*{l1[:,i]}\", end=\" \")\n",
    "else:\n",
    "    sol=np.linalg.lstsq(A,b,rcond=None)\n",
    "    print(\"Inconsistent\\n\",sol)\n",
    "    \n"
   ]
  },
  {
   "cell_type": "code",
   "execution_count": 26,
   "id": "46fa822d-5209-48f2-92a3-4f94f8c3f2a1",
   "metadata": {
    "tags": []
   },
   "outputs": [
    {
     "ename": "AttributeError",
     "evalue": "'list' object has no attribute 'T'",
     "output_type": "error",
     "traceback": [
      "\u001b[1;31m---------------------------------------------------------------------------\u001b[0m",
      "\u001b[1;31mAttributeError\u001b[0m                            Traceback (most recent call last)",
      "Cell \u001b[1;32mIn[26], line 1\u001b[0m\n\u001b[1;32m----> 1\u001b[0m A\u001b[38;5;241m@\u001b[39m(l1\u001b[38;5;241m.\u001b[39mT)\n",
      "\u001b[1;31mAttributeError\u001b[0m: 'list' object has no attribute 'T'"
     ]
    }
   ],
   "source": [
    "A@(l1.T)"
   ]
  },
  {
   "cell_type": "code",
   "execution_count": 1,
   "id": "ad53b058-c87c-463c-b4ec-7979186610ad",
   "metadata": {
    "tags": []
   },
   "outputs": [
    {
     "name": "stdin",
     "output_type": "stream",
     "text": [
      "For A; enter no. of rows:  2\n",
      "For A; enter no. of columns:  2\n",
      "enter elements of A, row wise:  1\n",
      "enter elements of A, row wise:  1\n",
      "enter elements of A, row wise:  1\n",
      "enter elements of A, row wise:  1\n",
      "enter elements of B:  3\n",
      "enter elements of B:  6\n"
     ]
    },
    {
     "name": "stdout",
     "output_type": "stream",
     "text": [
      "A is: \n",
      " [[1. 1.]\n",
      " [1. 1.]]\n",
      "B is \n",
      " [[3.]\n",
      " [6.]]\n",
      "Augmented matrix, A_B is \n",
      " [[1. 1. 3.]\n",
      " [1. 1. 6.]]\n",
      "No Solution. The Best fit Solution is: \n",
      " [[2.25]\n",
      " [2.25]] \n",
      " The sum of squared error is : \n",
      " []\n"
     ]
    }
   ],
   "source": [
    "#from adi\n",
    "import numpy as np\n",
    "\n",
    "m = int(input(\"For A; enter no. of rows: \"))\n",
    "n = int(input(\"For A; enter no. of columns: \"))\n",
    "A = np.zeros((m,n))\n",
    "for i in range(m):\n",
    "    for j in range(n):\n",
    "        A[i,j] = int(input(\"enter elements of A, row wise: \"))\n",
    "\n",
    "B = np.zeros((m,1))\n",
    "for i in range(m):\n",
    "    B[i,0] = int(input(\"enter elements of B: \"))\n",
    "print(f\"A is: \\n {A}\")\n",
    "print(f\"B is \\n {B}\")\n",
    "\n",
    "A_B = np.concatenate((A,B), axis = 1)\n",
    "print(f\"Augmented matrix, A_B is \\n {A_B}\")\n",
    "ra, rab, ns, tm = np.linalg.matrix_rank(A), np.linalg.matrix_rank(A_B), [], []\n",
    "\n",
    "if ra == rab:\n",
    "    if ra == n:\n",
    "        print(f\"there is a unique solution: \\n {np.linalg.pinv(A)@B}\")\n",
    "    else : \n",
    "        sol = np.linalg.pinv(A)@B\n",
    "        v = np.linalg.svd(A)[2].T\n",
    "        for i in range(ra, len(v)):\n",
    "            ns.append(v[:,i])\n",
    "        print(f\"Null space of A is: {ns}\")\n",
    "        for i in range(len(ns)):\n",
    "            tm.append(f\"t{i+1}*{ns[i]}\")\n",
    "        print(f\"there are infinite solutions of the form: \\n {sol} + {tm}\")\n",
    "else:\n",
    "    sol = np.linalg.lstsq(A,B,rcond=None)\n",
    "    print(f\"No Solution. The Best fit Solution is: \\n {sol[0]} \\n The sum of squared error is : \\n {sol[1]}\")"
   ]
  },
  {
   "cell_type": "code",
   "execution_count": 22,
   "id": "85c1618c-84b4-4ead-8109-ee764795ae90",
   "metadata": {
    "tags": []
   },
   "outputs": [
    {
     "ename": "TypeError",
     "evalue": "lstsq() missing 2 required positional arguments: 'a' and 'b'",
     "output_type": "error",
     "traceback": [
      "\u001b[1;31m---------------------------------------------------------------------------\u001b[0m",
      "\u001b[1;31mTypeError\u001b[0m                                 Traceback (most recent call last)",
      "Cell \u001b[1;32mIn[22], line 1\u001b[0m\n\u001b[1;32m----> 1\u001b[0m help(np\u001b[38;5;241m.\u001b[39mlinalg\u001b[38;5;241m.\u001b[39mlstsq())\n",
      "File \u001b[1;32m<__array_function__ internals>:198\u001b[0m, in \u001b[0;36mlstsq\u001b[1;34m(*args, **kwargs)\u001b[0m\n",
      "\u001b[1;31mTypeError\u001b[0m: lstsq() missing 2 required positional arguments: 'a' and 'b'"
     ]
    }
   ],
   "source": []
  }
 ],
 "metadata": {
  "kernelspec": {
   "display_name": "Python 3 (ipykernel)",
   "language": "python",
   "name": "python3"
  },
  "language_info": {
   "codemirror_mode": {
    "name": "ipython",
    "version": 3
   },
   "file_extension": ".py",
   "mimetype": "text/x-python",
   "name": "python",
   "nbconvert_exporter": "python",
   "pygments_lexer": "ipython3",
   "version": "3.11.5"
  }
 },
 "nbformat": 4,
 "nbformat_minor": 5
}
