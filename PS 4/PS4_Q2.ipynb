{
 "cells": [
  {
   "cell_type": "code",
   "execution_count": null,
   "id": "738a3f2f-e4dc-4de9-9284-b2c9614896d8",
   "metadata": {},
   "outputs": [],
   "source": [
    "def twosol(A):\n",
    "    import numpy as np\n",
    "    e, v = np.linalg.eig(A)\n",
    "    if len(e[e < 0]) != 0 and len(e[e > 0]) != 0:\n",
    "        print(\"Indefinite\")\n",
    "        c1,c2 = 0,0\n",
    "        for i in range(len(e)):\n",
    "            if e[i] > 0 and c1==0:\n",
    "                print(\"Positive when\", v[:, i])\n",
    "                c1 += 1\n",
    "            if e[i] < 0 and c2==0:\n",
    "                print(\"Negative when\", v[:, i])\n",
    "                c2 += 1\n",
    "            if c1==1 and c2==1:\n",
    "                break\n",
    "    elif len(e[e > 0]) == len(e):\n",
    "        print(\"positive definite\")\n",
    "        print(v[:, 0])\n",
    "    elif len(e[e < 0]) == len(e):\n",
    "        print(\"negative definite\")\n",
    "        print(v[:, 0])\n",
    "    elif len(e[e > 0]) > 0:\n",
    "        print(\"positive semi-definite\")\n",
    "        c1,c2 = 0,0\n",
    "        for i in range(len(e)):\n",
    "            if e[i] > 0 and c1==0:\n",
    "                print(\"Positive when\", v[:, i])\n",
    "                c1 += 1\n",
    "            if e[i] == 0 and c2==0:\n",
    "                print(\"zero when\", v[:, i])\n",
    "                c2 += 1\n",
    "            if c1==1 and c2==1:\n",
    "                break\n",
    "    elif len(e[e < 0]) > 0:\n",
    "        print(\"negative semi-definite\")\n",
    "        c1,c2 = 0,0\n",
    "        for i in range(len(e)):\n",
    "            if e[i] < 0 and c1==0:\n",
    "                print(\"Negetive when\", v[:, i])\n",
    "                c1 += 1\n",
    "            if e[i] == 0 and c2==0:\n",
    "                print(\"Zero when\", v[:, i])\n",
    "                c2 += 1\n",
    "            if c1==1 and c2==1:\n",
    "                break\n"
   ]
  },
  {
   "cell_type": "code",
   "execution_count": null,
   "id": "89643088-fa6f-4cd0-a47f-644544820cdf",
   "metadata": {},
   "outputs": [],
   "source": []
  }
 ],
 "metadata": {
  "kernelspec": {
   "display_name": "Python 3 (ipykernel)",
   "language": "python",
   "name": "python3"
  },
  "language_info": {
   "codemirror_mode": {
    "name": "ipython",
    "version": 3
   },
   "file_extension": ".py",
   "mimetype": "text/x-python",
   "name": "python",
   "nbconvert_exporter": "python",
   "pygments_lexer": "ipython3",
   "version": "3.11.5"
  }
 },
 "nbformat": 4,
 "nbformat_minor": 5
}
