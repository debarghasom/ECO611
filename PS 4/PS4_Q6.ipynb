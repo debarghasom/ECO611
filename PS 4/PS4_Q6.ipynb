{
 "cells": [
  {
   "cell_type": "code",
   "execution_count": 5,
   "id": "39675173-a6e8-49f1-a8a9-77854cbaefaf",
   "metadata": {
    "tags": []
   },
   "outputs": [
    {
     "name": "stdout",
     "output_type": "stream",
     "text": [
      "Maximal set:\n",
      "[[ 1  1  2]\n",
      " [ 0  2 -1]\n",
      " [ 1 -2  1]\n",
      " [ 3  2  1]]\n",
      "\n",
      "Orthogonal Basis:\n",
      "[[ 0.30151134  0.16653821  0.91469295]\n",
      " [ 0.          0.61064012 -0.28219251]\n",
      " [ 0.30151134 -0.74942197 -0.09730776]\n",
      " [ 0.90453403  0.19429458 -0.27246173]]\n"
     ]
    }
   ],
   "source": [
    "import numpy as np\n",
    "\n",
    "def gram_schmidt(A):\n",
    "    ro, co = np.shape(A)\n",
    "    l2 = []\n",
    "\n",
    "    u0 = A[:, 0] / np.linalg.norm(A[:, 0])\n",
    "    l2.append(u0)\n",
    "\n",
    "    for i in range(1, co):\n",
    "        l1 = np.zeros(ro)\n",
    "        for j in range(i):\n",
    "            l1 += np.dot(A[:, i], l2[j]) * l2[j]\n",
    "        num = A[:, i] - l1\n",
    "        if (np.dot(num,num)==0):\n",
    "            u=num\n",
    "        else:\n",
    "            u = num / np.linalg.norm(num)\n",
    "        l2.append(u)\n",
    "\n",
    "    return np.array(l2).T\n",
    "\n",
    "A = np.array([[1, 1, 2], [0, 2, -1], [1, -2, 1],[3,2,1]])\n",
    "orthogonal_basis = gram_schmidt(A)\n",
    "\n",
    "\n",
    "for i in range(np.shape(orthogonal_basis)[1]):\n",
    "    if(np.dot(orthogonal_basis[:,i],orthogonal_basis[:,i]) == 0):\n",
    "        A[:,i] = np.delete(A,i,1)\n",
    "    \n",
    "print(\"Maximal set:\")\n",
    "print(A)\n",
    "print(\"\\nOrthogonal Basis:\")\n",
    "print(orthogonal_basis)\n"
   ]
  }
 ],
 "metadata": {
  "kernelspec": {
   "display_name": "Python 3 (ipykernel)",
   "language": "python",
   "name": "python3"
  },
  "language_info": {
   "codemirror_mode": {
    "name": "ipython",
    "version": 3
   },
   "file_extension": ".py",
   "mimetype": "text/x-python",
   "name": "python",
   "nbconvert_exporter": "python",
   "pygments_lexer": "ipython3",
   "version": "3.11.5"
  }
 },
 "nbformat": 4,
 "nbformat_minor": 5
}
