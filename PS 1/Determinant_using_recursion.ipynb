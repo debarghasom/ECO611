{
 "cells": [
  {
   "cell_type": "code",
   "execution_count": 6,
   "id": "de585fa4-c86c-49e5-911c-3b6a86504200",
   "metadata": {
    "tags": []
   },
   "outputs": [],
   "source": [
    "import numpy as np\n",
    "def deter(ar):\n",
    "    ar=np.array(ar)\n",
    "    rows,columns=np.shape(ar)\n",
    "    if(rows==2):\n",
    "        return((ar[0,0]*ar[1,1])-(ar[0,1]*ar[1,0]))\n",
    "    else:\n",
    "        f=ar[0,0]*deter(ar[1:,1:])\n",
    "        for i in range(1,rows-1):\n",
    "            f+=((-1)**(i%2))*deter(np.concatenate((ar[1:,0:i],ar[1:,i+1:]),axis=1))*ar[0,i]\n",
    "        f+=ar[0,rows-1]*deter(ar[1:,:rows-1])*((-1)**(rows-1))\n",
    "        return f\n",
    "                            "
   ]
  },
  {
   "cell_type": "code",
   "execution_count": 7,
   "id": "de7b00c1-b953-4061-9940-3efb7733eb06",
   "metadata": {
    "tags": []
   },
   "outputs": [],
   "source": [
    "import numpy as np\n",
    "def user_input():\n",
    "    a=int(input(\"Enter the number of rows or columns\"))\n",
    "    ar=np.zeros((a,a))\n",
    "    for i in range(a):\n",
    "        for j in range(a):\n",
    "            ar[i][j]=int(input(\"Enter number\"))\n",
    "    return ar\n",
    "\n",
    "    "
   ]
  },
  {
   "cell_type": "code",
   "execution_count": 8,
   "id": "4091a172-7477-46b8-ab47-582a43a26df7",
   "metadata": {
    "tags": []
   },
   "outputs": [],
   "source": [
    "def main():\n",
    "    ar=user_input()\n",
    "    print(deter(ar))"
   ]
  },
  {
   "cell_type": "code",
   "execution_count": 4,
   "id": "3946530a-d48a-424e-86b0-30d834624d6b",
   "metadata": {
    "tags": []
   },
   "outputs": [
    {
     "data": {
      "text/plain": [
       "<function __main__.main()>"
      ]
     },
     "execution_count": 4,
     "metadata": {},
     "output_type": "execute_result"
    }
   ],
   "source": [
    "main"
   ]
  },
  {
   "cell_type": "code",
   "execution_count": 10,
   "id": "3f7d17b7-b871-4c36-b086-b6ed8241970c",
   "metadata": {},
   "outputs": [
    {
     "name": "stdin",
     "output_type": "stream",
     "text": [
      "Enter the number of rows or columns 4\n",
      "Enter number 1\n",
      "Enter number 3\n",
      "Enter number 1\n",
      "Enter number 4\n",
      "Enter number 3\n",
      "Enter number 9\n",
      "Enter number 5\n",
      "Enter number 15\n",
      "Enter number 0\n",
      "Enter number 2\n",
      "Enter number 1\n",
      "Enter number 1\n",
      "Enter number 0\n",
      "Enter number 4\n",
      "Enter number 2\n",
      "Enter number 3\n"
     ]
    },
    {
     "name": "stdout",
     "output_type": "stream",
     "text": [
      "-4.0\n"
     ]
    }
   ],
   "source": [
    "main()"
   ]
  },
  {
   "cell_type": "code",
   "execution_count": 7,
   "id": "ed270c11-bc78-4689-8665-5a55b09ec166",
   "metadata": {
    "tags": []
   },
   "outputs": [
    {
     "name": "stdout",
     "output_type": "stream",
     "text": [
      "[[1 4 7]\n",
      " [2 5 8]\n",
      " [3 6 9]]\n"
     ]
    }
   ],
   "source": [
    "import numpy as np\n",
    "ma = np.array([[1, 2, 3], [4, 5, 6], [7, 8, 9]])\n",
    "print(np.transpose(ma))"
   ]
  }
 ],
 "metadata": {
  "kernelspec": {
   "display_name": "Python 3 (ipykernel)",
   "language": "python",
   "name": "python3"
  },
  "language_info": {
   "codemirror_mode": {
    "name": "ipython",
    "version": 3
   },
   "file_extension": ".py",
   "mimetype": "text/x-python",
   "name": "python",
   "nbconvert_exporter": "python",
   "pygments_lexer": "ipython3",
   "version": "3.11.5"
  }
 },
 "nbformat": 4,
 "nbformat_minor": 5
}
