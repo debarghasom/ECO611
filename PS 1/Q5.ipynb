{
 "cells": [
  {
   "cell_type": "code",
   "execution_count": 7,
   "id": "2c7cba12-8093-4c13-a53c-b35c238fca5f",
   "metadata": {
    "tags": []
   },
   "outputs": [
    {
     "name": "stdin",
     "output_type": "stream",
     "text": [
      "Enter number of elements to be sorted:  5\n",
      "Enter a num:  3\n",
      "Enter a num:  6\n",
      "Enter a num:  9\n",
      "Enter a num:  5\n",
      "Enter a num:  6\n"
     ]
    },
    {
     "name": "stdout",
     "output_type": "stream",
     "text": [
      "[3, 5, 6, 6, 9]\n"
     ]
    }
   ],
   "source": [
    "import numpy as np\n",
    "\n",
    "n = int(input(\"Enter number of elements to be sorted: \"))\n",
    "arr = []\n",
    "for i in range(n):\n",
    "    a = int(input(\"Enter a num: \"))\n",
    "    arr.append(a)\n",
    "\n",
    "for i in range(n):\n",
    "    for j in range(0, n-i-1):\n",
    "        if(arr[j] > arr[j+1]):\n",
    "            arr[j], arr[j + 1] = arr[j + 1], arr[j]\n",
    "        \n",
    "#min=0\n",
    "#store=0\n",
    "#ind=0\n",
    "#for i in range(n):\n",
    " #   store = arr[i]\n",
    "  #  mini = np.min(arr[i:])\n",
    "   # ind = arr.index(np.min(arr[i:]))\n",
    "    #arr[i] = mini\n",
    "   # arr[ind] = store\n",
    "print(arr)"
   ]
  },
  {
   "cell_type": "code",
   "execution_count": null,
   "id": "99da09f9-75c1-4db1-a6a7-4ddbcef843f0",
   "metadata": {},
   "outputs": [],
   "source": []
  },
  {
   "cell_type": "code",
   "execution_count": null,
   "id": "22c01178-e44a-4fed-a873-d7fe0b93cd3c",
   "metadata": {},
   "outputs": [],
   "source": []
  }
 ],
 "metadata": {
  "kernelspec": {
   "display_name": "Python 3 (ipykernel)",
   "language": "python",
   "name": "python3"
  },
  "language_info": {
   "codemirror_mode": {
    "name": "ipython",
    "version": 3
   },
   "file_extension": ".py",
   "mimetype": "text/x-python",
   "name": "python",
   "nbconvert_exporter": "python",
   "pygments_lexer": "ipython3",
   "version": "3.11.5"
  }
 },
 "nbformat": 4,
 "nbformat_minor": 5
}
