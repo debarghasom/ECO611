{
 "cells": [
  {
   "cell_type": "code",
   "execution_count": 15,
   "id": "d5e2df96-61df-4ebc-b276-67c20479d8b9",
   "metadata": {
    "tags": []
   },
   "outputs": [
    {
     "name": "stdin",
     "output_type": "stream",
     "text": [
      "enter number a number:  542680\n"
     ]
    },
    {
     "name": "stdout",
     "output_type": "stream",
     "text": [
      "five four two six eight zero \n"
     ]
    }
   ],
   "source": [
    "import numpy as np\n",
    "a = input(\"enter number a number: \")\n",
    "b = 0\n",
    "num = int(a)\n",
    "st = \"\"\n",
    "my_dict = {0:\"zero\",\n",
    "        1:\"one\",\n",
    "        2:\"two\",\n",
    "        3:\"three\",\n",
    "        4:\"four\",\n",
    "        5:\"five\",\n",
    "        6:\"six\",\n",
    "        7:\"seven\",\n",
    "        8:\"eight\",\n",
    "        9:\"nine\"}\n",
    "numb = ['zero','one','two','three','four','five','six','seven','eight','nine']\n",
    "\n",
    "for i in range(len(a)):\n",
    "    b = num%10\n",
    "    st = str(my_dict[b]) + \" \" + st\n",
    "    num = num//10\n",
    "    \n",
    "print(st)\n"
   ]
  },
  {
   "cell_type": "code",
   "execution_count": null,
   "id": "737d4b64-5ec9-4ca0-a239-73722dac06a5",
   "metadata": {},
   "outputs": [],
   "source": []
  }
 ],
 "metadata": {
  "kernelspec": {
   "display_name": "Python 3 (ipykernel)",
   "language": "python",
   "name": "python3"
  },
  "language_info": {
   "codemirror_mode": {
    "name": "ipython",
    "version": 3
   },
   "file_extension": ".py",
   "mimetype": "text/x-python",
   "name": "python",
   "nbconvert_exporter": "python",
   "pygments_lexer": "ipython3",
   "version": "3.11.5"
  }
 },
 "nbformat": 4,
 "nbformat_minor": 5
}
