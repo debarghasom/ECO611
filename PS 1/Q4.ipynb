{
 "cells": [
  {
   "cell_type": "code",
   "execution_count": 24,
   "id": "5dd83db3-cbcc-40ae-8ec9-9d8521b62579",
   "metadata": {
    "tags": []
   },
   "outputs": [
    {
     "name": "stdin",
     "output_type": "stream",
     "text": [
      "Enter the length of first vector:  4\n",
      "Enter the length of second vector:  5\n"
     ]
    },
    {
     "name": "stdout",
     "output_type": "stream",
     "text": [
      "Enter the elements of the first vector: \n"
     ]
    },
    {
     "name": "stdin",
     "output_type": "stream",
     "text": [
      "Enter Num:  1\n",
      "Enter Num:  2\n",
      "Enter Num:  2\n",
      "Enter Num:  1\n"
     ]
    },
    {
     "name": "stdout",
     "output_type": "stream",
     "text": [
      "Enter the elements of the second vector: \n"
     ]
    },
    {
     "name": "stdin",
     "output_type": "stream",
     "text": [
      "Enter Num:  1\n",
      "Enter Num:  2\n",
      "Enter Num:  3\n",
      "Enter Num:  2\n",
      "Enter Num:  1\n"
     ]
    },
    {
     "name": "stdout",
     "output_type": "stream",
     "text": [
      "[ 1  4  9 13 13  9  4  1]\n"
     ]
    }
   ],
   "source": [
    "import numpy as np\n",
    "v1,v2,vw1,vw3=[],[],[],[]\n",
    "\n",
    "n = int(input(\"Enter the length of first vector: \"))\n",
    "m = int(input(\"Enter the length of second vector: \"))\n",
    "mi = min(m,n)\n",
    "ma = max(m,n)\n",
    "vw2 = np.zeros([mi,ma], dtype = int)\n",
    "\n",
    "a=0\n",
    "print(\"Enter the elements of the first vector: \")\n",
    "for i in range(n):\n",
    "    a = int(input(\"Enter Num: \"))\n",
    "    v1.append(a)\n",
    "print(\"Enter the elements of the second vector: \")\n",
    "for i in range(m):\n",
    "    a = int(input(\"Enter Num: \"))\n",
    "    v2.append(a)\n",
    "\n",
    "v1=np.array(v1)\n",
    "v2=np.array(v2)\n",
    "\n",
    "for i in range(mi):\n",
    "    if (n <= m):\n",
    "        vw1 = v1[i] * v2\n",
    "        vw2[i] = vw1\n",
    "    else:\n",
    "        vw1 = v2[i] * v1\n",
    "        vw2[i] = vw1\n",
    "\n",
    "vw1 = np.append(vw2[0],0)\n",
    "for i in range(1,mi):\n",
    "    zr=np.zeros(i,dtype = int)\n",
    "    vw3 = np.insert(vw2[i],zr,zr)\n",
    "    vw1 += vw3\n",
    "    vw1 = np.append(vw1,0)\n",
    "vw1=np.delete(vw1,-1)\n",
    "print(vw1)"
   ]
  },
  {
   "cell_type": "code",
   "execution_count": null,
   "id": "7159a809-9f33-4053-bef3-f533e72274ed",
   "metadata": {},
   "outputs": [],
   "source": []
  }
 ],
 "metadata": {
  "kernelspec": {
   "display_name": "Python 3 (ipykernel)",
   "language": "python",
   "name": "python3"
  },
  "language_info": {
   "codemirror_mode": {
    "name": "ipython",
    "version": 3
   },
   "file_extension": ".py",
   "mimetype": "text/x-python",
   "name": "python",
   "nbconvert_exporter": "python",
   "pygments_lexer": "ipython3",
   "version": "3.11.5"
  }
 },
 "nbformat": 4,
 "nbformat_minor": 5
}
