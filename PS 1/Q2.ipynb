{
 "cells": [
  {
   "cell_type": "code",
   "execution_count": 2,
   "id": "6f9250cf-57cf-421b-bbe2-7c312a557d14",
   "metadata": {
    "tags": []
   },
   "outputs": [
    {
     "name": "stdin",
     "output_type": "stream",
     "text": [
      "Enter first num:  39\n",
      "Enter second num:  12\n"
     ]
    },
    {
     "name": "stdout",
     "output_type": "stream",
     "text": [
      "LCM is:  156\n",
      "HCF is:  3\n"
     ]
    }
   ],
   "source": [
    "import numpy as np\n",
    "\n",
    "num1 = int(input(\"Enter first num: \"))\n",
    "num2 = int(input(\"Enter second num: \"))\n",
    "hcf=1\n",
    "# Calculating HCF here\n",
    "for i in range(2, min(num1, num2)+1):\n",
    "    if (num1%i==0 and num2%i==0):\n",
    "        hcf = i\n",
    "\n",
    "# LCM formula\n",
    "lcm = (num1*num2)//hcf\n",
    "\n",
    "print(\"LCM is: \",lcm)\n",
    "print(\"HCF is: \",hcf)"
   ]
  },
  {
   "cell_type": "code",
   "execution_count": null,
   "id": "c8092b39-1099-49f1-b890-17ac9acd2fb6",
   "metadata": {},
   "outputs": [],
   "source": []
  },
  {
   "cell_type": "code",
   "execution_count": null,
   "id": "3be69834-5b28-47cf-a178-6fbd76ade516",
   "metadata": {},
   "outputs": [],
   "source": []
  }
 ],
 "metadata": {
  "kernelspec": {
   "display_name": "Python 3 (ipykernel)",
   "language": "python",
   "name": "python3"
  },
  "language_info": {
   "codemirror_mode": {
    "name": "ipython",
    "version": 3
   },
   "file_extension": ".py",
   "mimetype": "text/x-python",
   "name": "python",
   "nbconvert_exporter": "python",
   "pygments_lexer": "ipython3",
   "version": "3.11.5"
  }
 },
 "nbformat": 4,
 "nbformat_minor": 5
}
