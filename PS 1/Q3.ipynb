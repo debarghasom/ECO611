{
 "cells": [
  {
   "cell_type": "code",
   "execution_count": 2,
   "id": "ee5a8746-5bb0-4683-aedb-02620692540f",
   "metadata": {
    "tags": []
   },
   "outputs": [
    {
     "name": "stdin",
     "output_type": "stream",
     "text": [
      "Enter row of matrix:  3\n",
      "Enter col of matrix:  3\n"
     ]
    },
    {
     "name": "stdout",
     "output_type": "stream",
     "text": [
      "enter the elements of a matrix row-wise:\n"
     ]
    },
    {
     "name": "stdin",
     "output_type": "stream",
     "text": [
      "  1\n",
      "  2\n",
      "  3\n",
      "  7\n",
      "  8\n",
      "  9\n",
      "  4\n",
      "  5\n",
      "  6\n"
     ]
    },
    {
     "name": "stdout",
     "output_type": "stream",
     "text": [
      "Is max-min saddle:  3.0  with position  0   2\n",
      "Is min-max saddle:  7.0  with position  1   0\n"
     ]
    }
   ],
   "source": [
    "import numpy as np\n",
    "r = int(input(\"Enter row of matrix: \"))\n",
    "c = int(input(\"Enter col of matrix: \"))\n",
    "m = np.zeros((r,c))\n",
    "\n",
    "print(\"enter the elements of a matrix row-wise:\")\n",
    "\n",
    "for a in range(r):\n",
    "    for b in range(c):\n",
    "        m[a][b] = int(input(\" \"))\n",
    "\n",
    "mat = np.array(m)\n",
    "#r,c = np.shape(mat)\n",
    "min1,min2,max1,max2 = 0,0,0,0\n",
    "\n",
    "\n",
    "for i in range(r):\n",
    "    for j in range(c):\n",
    "        min1 = np.min(mat[i])\n",
    "        max1 = np.max(mat[:,j])\n",
    "        min2 = np.min(mat[:,j])\n",
    "        max2 = np.max(mat[i])\n",
    "        if(max1 == min1):\n",
    "            print(\"Is min-max saddle: \",mat[i][j],\" with position \",i,\" \",j)\n",
    "        if(max2 == min2):\n",
    "            print(\"Is max-min saddle: \",mat[i][j],\" with position \",i,\" \",j)\n",
    "        "
   ]
  },
  {
   "cell_type": "code",
   "execution_count": null,
   "id": "642e1223-9fc2-4a8d-a1b6-aaeb9bbbfc07",
   "metadata": {},
   "outputs": [],
   "source": []
  },
  {
   "cell_type": "code",
   "execution_count": null,
   "id": "ba561093-7756-4809-bb35-0bce49c477fa",
   "metadata": {},
   "outputs": [],
   "source": []
  },
  {
   "cell_type": "code",
   "execution_count": null,
   "id": "1ec3f220-9b51-46a3-a8e9-ea1a92afaa11",
   "metadata": {},
   "outputs": [],
   "source": []
  },
  {
   "cell_type": "code",
   "execution_count": null,
   "id": "32814921-38ae-4282-ae81-41a6aabd9621",
   "metadata": {},
   "outputs": [],
   "source": []
  }
 ],
 "metadata": {
  "kernelspec": {
   "display_name": "Python 3 (ipykernel)",
   "language": "python",
   "name": "python3"
  },
  "language_info": {
   "codemirror_mode": {
    "name": "ipython",
    "version": 3
   },
   "file_extension": ".py",
   "mimetype": "text/x-python",
   "name": "python",
   "nbconvert_exporter": "python",
   "pygments_lexer": "ipython3",
   "version": "3.11.5"
  }
 },
 "nbformat": 4,
 "nbformat_minor": 5
}
