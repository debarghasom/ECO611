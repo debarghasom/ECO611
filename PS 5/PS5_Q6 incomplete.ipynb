{
 "cells": [
  {
   "cell_type": "code",
   "execution_count": 3,
   "id": "16bf4e29-2e6b-484c-8023-478421977785",
   "metadata": {
    "tags": []
   },
   "outputs": [
    {
     "name": "stdout",
     "output_type": "stream",
     "text": [
      "[0.2 0.2 0.2]\n",
      "[0.28993755 0.28993755 0.28993755]\n",
      "[0.30045431 0.30045431 0.30045431]\n",
      "[0.30054196 0.30054196 0.30054196]\n"
     ]
    }
   ],
   "source": [
    "import numpy as np\n",
    "x = np.array([1,1,1])\n",
    "while ((- 2*x[0] -x[1] -x[2] -np.log(x[0]))**2 + (- 2*x[1] -x[0] -x[2] -np.log(x[1]))**2 + (- 2*x[2] -x[0] -x[1] -np.log(x[2]))**2 >= 1e-12):\n",
    "    j = np.array([[-2-1/x[0],-1,-1],[-1,-2-1/x[1],-1],[-1,-1,-2-1/x[2]]])\n",
    "    x = x- np.linalg.inv(j)@np.array([1- 2*x[0] -x[1] -x[2] -1-np.log(x[0]),1- 2*x[1] -x[0] -x[2] -1-np.log(x[1]),1- 2*x[2] -x[0] -x[1] -1-np.log(x[2])])\n",
    "    print(x)"
   ]
  },
  {
   "cell_type": "code",
   "execution_count": null,
   "id": "b224c231-e127-43bd-8647-000cd760d76e",
   "metadata": {},
   "outputs": [],
   "source": []
  }
 ],
 "metadata": {
  "kernelspec": {
   "display_name": "Python 3 (ipykernel)",
   "language": "python",
   "name": "python3"
  },
  "language_info": {
   "codemirror_mode": {
    "name": "ipython",
    "version": 3
   },
   "file_extension": ".py",
   "mimetype": "text/x-python",
   "name": "python",
   "nbconvert_exporter": "python",
   "pygments_lexer": "ipython3",
   "version": "3.11.5"
  }
 },
 "nbformat": 4,
 "nbformat_minor": 5
}
