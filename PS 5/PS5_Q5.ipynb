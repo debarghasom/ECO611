{
 "cells": [
  {
   "cell_type": "code",
   "execution_count": 2,
   "id": "bd48effc-5adc-4c53-8681-5491ad55a92f",
   "metadata": {
    "tags": []
   },
   "outputs": [
    {
     "name": "stdout",
     "output_type": "stream",
     "text": [
      "[-0.27908937  0.36133623]\n"
     ]
    },
    {
     "name": "stderr",
     "output_type": "stream",
     "text": [
      "C:\\Users\\debar\\AppData\\Local\\Temp\\ipykernel_17640\\583968233.py:5: RuntimeWarning: invalid value encountered in scalar power\n",
      "  while (((x[0]**(1/5) + x[1]**(1/5) - 2)**2 + (x[0]**(1/10) + x[1]**(2/5) - 2)**2) > 1e-12):\n"
     ]
    }
   ],
   "source": [
    "#5 a)\n",
    "import numpy as np\n",
    "x = np.array([3,3])\n",
    "\n",
    "while (((x[0]**(1/5) + x[1]**(1/5) - 2)**2 + (x[0]**(1/10) + x[1]**(2/5) - 2)**2) > 1e-12):\n",
    "    j=np.array([[1/5 * x[0]**(-4/5), 1/5 * x[1]**(-4/5)], [1/10 * x[0]**(-9/10), 2/5 * x[1]**(-3/5)]])\n",
    "    x = x - np.linalg.inv(j.T@j)@j.T@np.array([x[0]**(1/5) + x[1]**(1/5) - 2, x[0]**(1/10) + x[1]**(2/5) - 2])\n",
    "    print(x)"
   ]
  },
  {
   "cell_type": "code",
   "execution_count": 3,
   "id": "0af2cac9-f3e8-4cd5-b951-1d5a9fd42d86",
   "metadata": {
    "tags": []
   },
   "outputs": [
    {
     "name": "stdout",
     "output_type": "stream",
     "text": [
      "[0.81220565 1.18779435]\n",
      "[0.97713644 0.99730823]\n",
      "[0.99994341 0.99997334]\n",
      "[1. 1.]\n"
     ]
    }
   ],
   "source": [
    "#5 b)\n",
    "import numpy as np\n",
    "x = np.array([3,3])\n",
    "\n",
    "while ((((x[0]**(1/5) + x[1]**(1/5))**5 - 32)**2 + ((x[0]**(1/10) + x[1]**(2/5))**4 - 16)**2) > 1e-12):\n",
    "    j=np.array([[(x[0]**(-0.8))*(x[0]**0.2 + x[1]**0.2)**4, (x[1]**(-0.8))*(x[0]**0.2 + x[1]**0.2)**4], \n",
    "       [(0.4)*(x[0]**(-0.9))*(x[0]**0.1 + x[1]**0.4)**3, (1.6)*(x[1]**(-0.6))*(x[0]**0.1 + x[1]**0.4)**3]])\n",
    "    x = x - np.linalg.inv(j.T@j)@j.T@np.array([(x[0]**(1/5) + x[1]**(1/5))**5 - 32, (x[0]**(1/10) + x[1]**(2/5))**4 - 16])\n",
    "    print(x)"
   ]
  },
  {
   "cell_type": "code",
   "execution_count": 22,
   "id": "1c3a1bed-0d0a-4b5f-a764-18cb8b71ca10",
   "metadata": {
    "tags": []
   },
   "outputs": [
    {
     "name": "stdout",
     "output_type": "stream",
     "text": [
      "[0.83754381 0.90594797]\n",
      "[0.98801489 0.99703872]\n",
      "[0.99994351 0.99999524]\n",
      "[1. 1.]\n"
     ]
    }
   ],
   "source": [
    "#5 c) i)\n",
    "import numpy as np\n",
    "x = np.array([0.5,0.5])\n",
    "\n",
    "while (((x[0]**(1/5) + x[1]**(1/5) - 2)**2 + (x[0]**(1/10) + x[1]**(2/5) - 2)**2) > 1e-12):\n",
    "    j=[[1/5 * x[0]**(-4/5), 1/5 * x[1]**(-4/5)], [1/10 * x[0]**(-9/10), 2/5 * x[1]**(-3/5)]]\n",
    "    x = x - np.linalg.inv(j)@np.array([x[0]**(1/5) + x[1]**(1/5) - 2, x[0]**(1/10) + x[1]**(2/5) - 2])\n",
    "    print(x)"
   ]
  },
  {
   "cell_type": "code",
   "execution_count": 23,
   "id": "ef50065e-7ee4-4771-9dd8-cb6b471f9029",
   "metadata": {
    "tags": []
   },
   "outputs": [
    {
     "name": "stdout",
     "output_type": "stream",
     "text": [
      "[0.81220565 1.18779435]\n",
      "[0.97713644 0.99730823]\n",
      "[0.99994341 0.99997334]\n",
      "[1. 1.]\n"
     ]
    }
   ],
   "source": [
    "#5 c) i)\n",
    "import numpy as np\n",
    "x = np.array([3,3])\n",
    "\n",
    "while ((((x[0]**(1/5) + x[1]**(1/5))**5 - 32)**2 + ((x[0]**(1/10) + x[1]**(2/5))**4 - 16)**2) > 1e-12):\n",
    "    j=[[(x[0]**(-0.8))*(x[0]**0.2 + x[1]**0.2)**4, (x[1]**(-0.8))*(x[0]**0.2 + x[1]**0.2)**4], \n",
    "       [(0.4)*(x[0]**(-0.9))*(x[0]**0.1 + x[1]**0.4)**3, (1.6)*(x[1]**(-0.6))*(x[0]**0.1 + x[1]**0.4)**3]]\n",
    "    x = x - np.linalg.inv(j)@np.array([(x[0]**(1/5) + x[1]**(1/5))**5 - 32, (x[0]**(1/10) + x[1]**(2/5))**4 - 16])\n",
    "    print(x)"
   ]
  }
 ],
 "metadata": {
  "kernelspec": {
   "display_name": "Python 3 (ipykernel)",
   "language": "python",
   "name": "python3"
  },
  "language_info": {
   "codemirror_mode": {
    "name": "ipython",
    "version": 3
   },
   "file_extension": ".py",
   "mimetype": "text/x-python",
   "name": "python",
   "nbconvert_exporter": "python",
   "pygments_lexer": "ipython3",
   "version": "3.11.5"
  }
 },
 "nbformat": 4,
 "nbformat_minor": 5
}
