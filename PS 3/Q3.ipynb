{
 "cells": [
  {
   "cell_type": "code",
   "execution_count": 5,
   "id": "13d28f63-3bd8-4b56-a229-a89985a57e96",
   "metadata": {
    "tags": []
   },
   "outputs": [
    {
     "name": "stdin",
     "output_type": "stream",
     "text": [
      "Enter n:  10\n",
      "Enter r:  4\n"
     ]
    },
    {
     "name": "stdout",
     "output_type": "stream",
     "text": [
      "Combination is:  210\n"
     ]
    }
   ],
   "source": [
    "import numpy as np\n",
    "def comb(n,r):\n",
    "    if (r==0 or r==n):\n",
    "        return 1\n",
    "    else:\n",
    "        return (comb(n-1,r-1)+comb(n-1,r))\n",
    "\n",
    "n = int(input(\"Enter n: \"))\n",
    "r = int(input(\"Enter r: \"))\n",
    "c = comb(n,r)\n",
    "print(\"Combination is: \",c)"
   ]
  },
  {
   "cell_type": "code",
   "execution_count": null,
   "id": "57bc3156-c1a9-4d07-8e9d-fa15b7a17bdf",
   "metadata": {},
   "outputs": [],
   "source": []
  }
 ],
 "metadata": {
  "kernelspec": {
   "display_name": "Python 3 (ipykernel)",
   "language": "python",
   "name": "python3"
  },
  "language_info": {
   "codemirror_mode": {
    "name": "ipython",
    "version": 3
   },
   "file_extension": ".py",
   "mimetype": "text/x-python",
   "name": "python",
   "nbconvert_exporter": "python",
   "pygments_lexer": "ipython3",
   "version": "3.11.5"
  }
 },
 "nbformat": 4,
 "nbformat_minor": 5
}
