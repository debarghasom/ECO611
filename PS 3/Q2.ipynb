{
 "cells": [
  {
   "cell_type": "code",
   "execution_count": 5,
   "id": "22d84960-8287-47d7-9a19-db67e731e7ed",
   "metadata": {
    "tags": []
   },
   "outputs": [
    {
     "name": "stdin",
     "output_type": "stream",
     "text": [
      "level of precision:  2\n"
     ]
    },
    {
     "name": "stdout",
     "output_type": "stream",
     "text": [
      "3.076378002641703\n"
     ]
    }
   ],
   "source": [
    "import numpy as np\n",
    "\n",
    "def recur(x,n):\n",
    "    if(n == 0):\n",
    "        return x\n",
    "    else:\n",
    "        return (x + recur(x,n-1))**0.5\n",
    "    \n",
    "x=6\n",
    "n=int(input(\"level of precision: \"))\n",
    "x=recur(x,n)\n",
    "print(x)"
   ]
  },
  {
   "cell_type": "code",
   "execution_count": null,
   "id": "235dbd9d-ca8a-44a1-a6cc-26db374ded29",
   "metadata": {},
   "outputs": [],
   "source": []
  }
 ],
 "metadata": {
  "kernelspec": {
   "display_name": "Python 3 (ipykernel)",
   "language": "python",
   "name": "python3"
  },
  "language_info": {
   "codemirror_mode": {
    "name": "ipython",
    "version": 3
   },
   "file_extension": ".py",
   "mimetype": "text/x-python",
   "name": "python",
   "nbconvert_exporter": "python",
   "pygments_lexer": "ipython3",
   "version": "3.11.5"
  }
 },
 "nbformat": 4,
 "nbformat_minor": 5
}
