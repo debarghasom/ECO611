{
 "cells": [
  {
   "cell_type": "code",
   "execution_count": 9,
   "id": "49333463-a335-49de-8509-86d231956836",
   "metadata": {
    "tags": []
   },
   "outputs": [
    {
     "name": "stdin",
     "output_type": "stream",
     "text": [
      "Enter row-dim:  4\n",
      "Enter col-dim:  2\n"
     ]
    },
    {
     "name": "stdout",
     "output_type": "stream",
     "text": [
      "Enter matrix row-wise\n",
      "Elements of 1th row:\n"
     ]
    },
    {
     "name": "stdin",
     "output_type": "stream",
     "text": [
      "Enter number:  1\n",
      "Enter number:  2\n"
     ]
    },
    {
     "name": "stdout",
     "output_type": "stream",
     "text": [
      "Elements of 2th row:\n"
     ]
    },
    {
     "name": "stdin",
     "output_type": "stream",
     "text": [
      "Enter number:  3\n",
      "Enter number:  4\n"
     ]
    },
    {
     "name": "stdout",
     "output_type": "stream",
     "text": [
      "Elements of 3th row:\n"
     ]
    },
    {
     "name": "stdin",
     "output_type": "stream",
     "text": [
      "Enter number:  5\n",
      "Enter number:  6\n"
     ]
    },
    {
     "name": "stdout",
     "output_type": "stream",
     "text": [
      "Elements of 4th row:\n"
     ]
    },
    {
     "name": "stdin",
     "output_type": "stream",
     "text": [
      "Enter number:  7\n",
      "Enter number:  8\n"
     ]
    },
    {
     "name": "stdout",
     "output_type": "stream",
     "text": [
      "Enter the new dimensions: \n"
     ]
    },
    {
     "name": "stdin",
     "output_type": "stream",
     "text": [
      "Enter row-dim:  2\n",
      "Enter col-dim:  4\n"
     ]
    },
    {
     "name": "stdout",
     "output_type": "stream",
     "text": [
      "New Matrix:\n",
      " [[1. 2. 3. 4.]\n",
      " [5. 6. 7. 8.]]\n"
     ]
    }
   ],
   "source": [
    "import numpy as np\n",
    "\n",
    "def reshape1(ar, a, b):\n",
    "    ar = ar.flatten()\n",
    "    z = np.zeros((a, b))\n",
    "    c = 0\n",
    "    for i in range(a):\n",
    "        for j in range(b):\n",
    "            z[i][j] = ar[c]\n",
    "            c += 1\n",
    "    return z\n",
    "\n",
    "ro = int(input(\"Enter row-dim: \"))\n",
    "co = int(input(\"Enter col-dim: \"))\n",
    "ar = np.zeros((ro, co))\n",
    "\n",
    "print(\"Enter matrix row-wise\")\n",
    "for i in range(ro):\n",
    "    print(f\"Elements of {i+1}th row:\")\n",
    "    for j in range(co):\n",
    "        ar[i][j] = int(input(\"Enter number: \"))\n",
    "\n",
    "print(\"Enter the new dimensions: \")\n",
    "a = int(input(\"Enter row-dim: \"))\n",
    "b = int(input(\"Enter col-dim: \"))\n",
    "if (a * b == ro * co):\n",
    "    ar = reshape1(ar, a, b)\n",
    "    print(\"New Matrix:\\n\", ar)\n",
    "else:\n",
    "    print(\"Wrong dimensions\")\n",
    "\n"
   ]
  },
  {
   "cell_type": "code",
   "execution_count": null,
   "id": "24f87435-baa7-4a6f-a2f4-5912314598ce",
   "metadata": {},
   "outputs": [],
   "source": []
  }
 ],
 "metadata": {
  "kernelspec": {
   "display_name": "Python 3 (ipykernel)",
   "language": "python",
   "name": "python3"
  },
  "language_info": {
   "codemirror_mode": {
    "name": "ipython",
    "version": 3
   },
   "file_extension": ".py",
   "mimetype": "text/x-python",
   "name": "python",
   "nbconvert_exporter": "python",
   "pygments_lexer": "ipython3",
   "version": "3.11.5"
  }
 },
 "nbformat": 4,
 "nbformat_minor": 5
}
